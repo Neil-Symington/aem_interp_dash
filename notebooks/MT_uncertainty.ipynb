{
 "cells": [
  {
   "cell_type": "code",
   "execution_count": 21,
   "metadata": {
    "collapsed": true
   },
   "outputs": [],
   "source": [
    "import numpy as np\n",
    "import matplotlib.pyplot as plt\n",
    "import os, glob, sys\n",
    "import pandas as pd\n",
    "sys.path.append(\"../scripts\")"
   ]
  },
  {
   "cell_type": "code",
   "execution_count": 68,
   "outputs": [],
   "source": [
    "#Define key functions\n",
    "def full_width_half_max(interpreted_depth, depth_array, count_array):\n",
    "    \"\"\"\n",
    "    Function for calculating the interval that is >0.5 times the probability\n",
    "    Parameters\n",
    "    ----------\n",
    "    interpreted_depth: float of the interpreted depth\n",
    "    depth_array: array of depths\n",
    "    count_array: array of counts. nb this is a proxy for probabilities\n",
    "\n",
    "    Returns\n",
    "    -------\n",
    "    tuple of indices denoting the top and bottom of the full width half max\n",
    "    \"\"\"\n",
    "\n",
    "    idx_upper = -1\n",
    "    idx_lower = -1\n",
    "\n",
    "    # Find the maximum depth index\n",
    "    max_idx = np.argmin(np.abs(depth_array - interpreted_depth))\n",
    "\n",
    "    # get the maximum probability\n",
    "    fmax = count_array[max_idx]\n",
    "\n",
    "    # Do some checks to make sure this depth is the most probably\n",
    "    # within 9 cells\n",
    "\n",
    "    window_slice = [max_idx - 4, max_idx + 4]\n",
    "    # to ensure no index errors\n",
    "    if window_slice[0] < 0:\n",
    "        window_slice[0] = 0\n",
    "    if window_slice[1] >= len(count_array):\n",
    "        window_slice[1] = len(count_array)\n",
    "\n",
    "    #if not fmax == np.max(count_array[window_slice[0]: window_slice][1]):\n",
    "    #    return -999\n",
    "\n",
    "    # positive direction\n",
    "    for idx in np.arange(max_idx, depth_array.shape[0]):\n",
    "        if count_array[idx] <= fmax/2.:\n",
    "            idx_upper = idx\n",
    "            break\n",
    "    # negative direction\n",
    "    for idx in np.arange(max_idx, -1, -1):\n",
    "        if count_array[idx] <= fmax/2.:\n",
    "            idx_lower = idx\n",
    "            break\n",
    "    # Now calculate the width\n",
    "    return (idx_lower, max_idx, idx_upper)\n"
   ],
   "metadata": {
    "collapsed": false,
    "pycharm": {
     "name": "#%%\n"
    }
   }
  },
  {
   "cell_type": "code",
   "execution_count": 59,
   "outputs": [],
   "source": [
    "# Define the directory with the data files\n",
    "\n",
    "indir = r\"C:\\Users\\symin\\OneDrive\\Documents\\GA\\MT\\Resistivity-depth\\Resistivity-depth\""
   ],
   "metadata": {
    "collapsed": false,
    "pycharm": {
     "name": "#%%\n"
    }
   }
  },
  {
   "cell_type": "code",
   "execution_count": 99,
   "outputs": [],
   "source": [
    "# Load in the csv\n",
    "\n",
    "infile = r\"C:\\Users\\symin\\OneDrive\\Documents\\GA\\MT\\ETMT_CoverTh.csv\"\n",
    "\n",
    "df = pd.read_csv(infile)\n",
    "\n",
    "# Create a new column with the path to the file\n",
    "\n",
    "df['path'] = [os.path.join(indir,x + '.txt') for x in df['siteID']]"
   ],
   "metadata": {
    "collapsed": false,
    "pycharm": {
     "name": "#%%\n"
    }
   }
  },
  {
   "cell_type": "code",
   "execution_count": 108,
   "outputs": [],
   "source": [
    "def generate_plot(max_idx, uncertainty_inds, depths, prob, outfile = None):\n",
    "\n",
    "    fig, ax = plt.subplots(1,1, figsize = (6,10))\n",
    "\n",
    "    ax.plot(prob,depths, label= 'layer point probability')\n",
    "    ax.set_ylim(ax.get_ylim()[::-1])\n",
    "    ax.set_ylabel('Depth (m)')\n",
    "    ax.set_xlabel('normalised probability')\n",
    "    # Add the uncertainties as horizontal lines\n",
    "    ax.hlines(y = depths[max_idx], xmin = 0., xmax = prob.max(),\n",
    "              colors ='red', label = 'cover')\n",
    "    ax.hlines(y = [depths[uncertainty_inds[0]], depths[uncertainty_inds[1]]],\n",
    "              xmin = 0., xmax = prob.max(),\n",
    "              colors ='green', label = 'full width half maximum')\n",
    "    ax.set_ylim(depths[uncertainty_inds[1]] + 500.,0)\n",
    "    ax.legend()\n",
    "    if outfile is not None:\n",
    "        plt.savefig(outfile, dpi = 300)\n",
    "    plt.close('all')"
   ],
   "metadata": {
    "collapsed": false,
    "pycharm": {
     "name": "#%%\n"
    }
   }
  },
  {
   "cell_type": "code",
   "execution_count": 109,
   "outputs": [],
   "source": [
    "df['CoverThick_stdev'] = np.nan\n",
    "\n",
    "for index, row in df.iterrows():\n",
    "    arr = np.loadtxt(row['path'], skiprows = 1)\n",
    "    depths = arr[:,0] * 1000. # working in metres\n",
    "    probability = arr[:,1]/np.max(arr[:,1]) # normalised probability\n",
    "    interpreted_depth = row['CoverTh']\n",
    "    [lower_ind, max_ind, upper_ind] = full_width_half_max(interpreted_depth, depths, probability)\n",
    "    if np.logical_and(lower_ind != -1, upper_ind != -1):\n",
    "        outfile = os.path.join(r\"C:\\temp\", row['siteID'] + '.png')\n",
    "\n",
    "        # Add to the dataframe\n",
    "        df.at[index, 'CoverThick_stdev'] = depths[upper_ind] - depths[upper_ind]\n",
    "        generate_plot(max_ind, [lower_ind, upper_ind],\n",
    "                      depths, probability, outfile = outfile)\n",
    "\n",
    "\n",
    "\n"
   ],
   "metadata": {
    "collapsed": false,
    "pycharm": {
     "name": "#%%\n"
    }
   }
  },
  {
   "cell_type": "code",
   "execution_count": null,
   "outputs": [],
   "source": [],
   "metadata": {
    "collapsed": false,
    "pycharm": {
     "name": "#%%\n"
    }
   }
  }
 ],
 "metadata": {
  "kernelspec": {
   "display_name": "Python 3",
   "language": "python",
   "name": "python3"
  },
  "language_info": {
   "codemirror_mode": {
    "name": "ipython",
    "version": 2
   },
   "file_extension": ".py",
   "mimetype": "text/x-python",
   "name": "python",
   "nbconvert_exporter": "python",
   "pygments_lexer": "ipython2",
   "version": "2.7.6"
  }
 },
 "nbformat": 4,
 "nbformat_minor": 0
}