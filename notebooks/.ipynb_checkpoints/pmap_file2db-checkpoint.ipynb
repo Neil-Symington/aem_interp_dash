{
 "cells": [
  {
   "cell_type": "markdown",
   "metadata": {},
   "source": [
    "This notebook demonstrates creating a spatial database for pmaps (probability map) files that the garjmcmctdem inversion spits out. These are a binary format that I have an existing matlab script to open.\n",
    "\n",
    "NOTE for now we are just mapping the files to the fiducial\n",
    "\n",
    "Neil Symington\n",
    "\n",
    "neil.symington@ga.gov.au"
   ]
  },
  {
   "cell_type": "code",
   "execution_count": 23,
   "metadata": {},
   "outputs": [],
   "source": [
    "import numpy as np\n",
    "import pandas as pd\n",
    "import os, glob\n",
    "from scipy.io import loadmat"
   ]
  },
  {
   "cell_type": "code",
   "execution_count": 24,
   "metadata": {},
   "outputs": [],
   "source": [
    "indir = r\"C:\\Users\\PCUser\\Desktop\\NSC_data\\data\\AEM\\HE\\garjmcmc\\run3\\output\\pmaps\"\n"
   ]
  },
  {
   "cell_type": "code",
   "execution_count": 40,
   "metadata": {},
   "outputs": [],
   "source": [
    "# Create an empty data frame\n",
    "\n",
    "df = pd.DataFrame(columns = ['binfile', 'fiducial'])\n",
    "\n",
    "# Iterate through the directory and add the bin file and fiducial to a csv\n",
    "\n",
    "for file in glob.glob(os.path.join(indir, '*.mat')):\n",
    "    D = loadmat(infile)\n",
    "    fid = D['M']['fidnumber'][0,0][0,0]\n",
    "    binfile = D['M']['binfile'][0,0][0]\n",
    "    \n",
    "    df = df.append(pd.DataFrame(columns = ['binfile', 'fiducial'],\n",
    "                                data = [[binfile, fid]]))"
   ]
  },
  {
   "cell_type": "code",
   "execution_count": 42,
   "metadata": {},
   "outputs": [],
   "source": [
    "df.to_csv(r'C:\\Users\\PCUser\\Desktop\\NSC_data\\data\\AEM\\HE\\garjmcmc\\run3\\output\\fid_2_pmap.csv')"
   ]
  }
 ],
 "metadata": {
  "kernelspec": {
   "display_name": "garjmcmctdem",
   "language": "python",
   "name": "garjmcmctdem"
  },
  "language_info": {
   "codemirror_mode": {
    "name": "ipython",
    "version": 3
   },
   "file_extension": ".py",
   "mimetype": "text/x-python",
   "name": "python",
   "nbconvert_exporter": "python",
   "pygments_lexer": "ipython3",
   "version": "3.7.3"
  }
 },
 "nbformat": 4,
 "nbformat_minor": 4
}
