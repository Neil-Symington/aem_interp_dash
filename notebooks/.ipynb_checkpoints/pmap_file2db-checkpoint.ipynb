{
 "cells": [
  {
   "cell_type": "markdown",
   "metadata": {},
   "source": [
    "Notebook for exploring the new netCDF4 pmaps\n",
    "\n",
    "Neil Symington\n",
    "\n",
    "neil.symington@ga.gov.au"
   ]
  },
  {
   "cell_type": "code",
   "execution_count": 1,
   "metadata": {},
   "outputs": [],
   "source": [
    "import numpy as np\n",
    "import pandas as pd\n",
    "import os, glob\n",
    "from scipy.io import loadmat"
   ]
  },
  {
   "cell_type": "code",
   "execution_count": 24,
   "metadata": {},
   "outputs": [],
   "source": [
    "indir = r\"C:\\Users\\PCUser\\Desktop\\NSC_data\\data\\AEM\\HE\\garjmcmc\\run3\\output\\pmaps\"\n"
   ]
  },
  {
   "cell_type": "code",
   "execution_count": 47,
   "metadata": {},
   "outputs": [],
   "source": [
    "# Create an empty data frame\n",
    "\n",
    "df = pd.DataFrame(columns = ['binfile', 'matfile', 'fiducial'])\n",
    "\n",
    "# Iterate through the directory and add the bin file and fiducial to a csv\n",
    "\n",
    "for file in glob.glob(os.path.join(indir, '*.mat')):\n",
    "    D = loadmat(file)\n",
    "    fid = D['M']['fidnumber'][0,0][0,0]\n",
    "    binfile = D['M']['binfile'][0,0][0]\n",
    "    df = df.append(pd.DataFrame(columns = ['binfile', 'matfile','fiducial'],\n",
    "                                data = [[binfile, file, fid]]))"
   ]
  },
  {
   "cell_type": "code",
   "execution_count": 48,
   "metadata": {},
   "outputs": [],
   "source": [
    "df.to_csv(r'C:\\Users\\PCUser\\Desktop\\NSC_data\\data\\AEM\\HE\\garjmcmc\\run3\\output\\fid_2_pmap.csv', index = False)"
   ]
  },
  {
   "cell_type": "code",
   "execution_count": 46,
   "metadata": {},
   "outputs": [
    {
     "data": {
      "text/plain": [
       "'C:\\\\Users\\\\PCUser\\\\Desktop\\\\NSC_data\\\\data\\\\AEM\\\\HE\\\\garjmcmc\\\\run3\\\\output\\\\pmaps\\\\seq.00010301.200801.3034441.500000.mat'"
      ]
     },
     "execution_count": 46,
     "metadata": {},
     "output_type": "execute_result"
    }
   ],
   "source": [
    "file"
   ]
  },
  {
   "cell_type": "code",
   "execution_count": null,
   "metadata": {},
   "outputs": [],
   "source": []
  }
 ],
 "metadata": {
  "kernelspec": {
   "display_name": "hydrogeol_utils",
   "language": "python",
   "name": "hydrogeol_utils"
  },
  "language_info": {
   "codemirror_mode": {
    "name": "ipython",
    "version": 3
   },
   "file_extension": ".py",
   "mimetype": "text/x-python",
   "name": "python",
   "nbconvert_exporter": "python",
   "pygments_lexer": "ipython3",
   "version": "3.7.3"
  }
 },
 "nbformat": 4,
 "nbformat_minor": 4
}
