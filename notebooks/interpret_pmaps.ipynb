{
 "cells": [
  {
   "cell_type": "markdown",
   "metadata": {},
   "source": [
    "This code opens pmaps from files and uses ipywidgets to do some basic interpretatoin\n",
    "\n",
    "Neil Symington\n",
    "neil.symington@ga.gov.au"
   ]
  },
  {
   "cell_type": "code",
   "execution_count": 1,
   "metadata": {},
   "outputs": [],
   "source": [
    "%matplotlib widget"
   ]
  },
  {
   "cell_type": "code",
   "execution_count": 11,
   "metadata": {},
   "outputs": [],
   "source": [
    "import geopandas as gpd\n",
    "import numpy as np\n",
    "import pandas as pd\n",
    "import aseg_gdf2\n",
    "from shapely.geometry import Point\n",
    "from scipy.io import loadmat\n",
    "import matplotlib.pyplot as plt"
   ]
  },
  {
   "cell_type": "code",
   "execution_count": 12,
   "metadata": {},
   "outputs": [],
   "source": [
    "def find_nearest_point_ind(gdf, pt):\n",
    "    \n",
    "    dist = gdf.distance(pt)\n",
    "    # retrun the nearest index and the distance\n",
    "    return dist.idxmin(), dist.min()\n"
   ]
  },
  {
   "cell_type": "code",
   "execution_count": 13,
   "metadata": {},
   "outputs": [],
   "source": [
    "infile = r\"C:\\Users\\PCUser\\Desktop\\NSC_data\\data\\AEM\\HE\\garjmcmc\\run3\\output\\lines\\rjmcmc_fixed\"\n",
    "\n",
    "# Read in a summary of the points\n",
    "\n",
    "dat = aseg_gdf2.read(infile)\n",
    "\n",
    "df_AEM = dat.df()\n",
    "\n",
    "xs = df_AEM['easting '].values\n",
    "ys = df_AEM['northing '].values\n",
    "\n",
    "df_AEM['geometry'] = [Point(xs[i],ys[i]) for i in range(len(xs))]\n",
    "\n",
    "gdf_AEM = gpd.GeoDataFrame(df_AEM)"
   ]
  },
  {
   "cell_type": "code",
   "execution_count": null,
   "metadata": {},
   "outputs": [],
   "source": []
  },
  {
   "cell_type": "code",
   "execution_count": 14,
   "metadata": {},
   "outputs": [],
   "source": [
    "# Open dataframe to extract the pmap file from the fiducial\n",
    "\n",
    "infile = r'C:\\Users\\PCUser\\Desktop\\NSC_data\\data\\AEM\\HE\\garjmcmc\\run3\\output\\fid_2_pmap.csv'\n",
    "\n",
    "df = pd.read_csv(infile)"
   ]
  },
  {
   "cell_type": "code",
   "execution_count": 15,
   "metadata": {},
   "outputs": [],
   "source": [
    "# Now we try adding a coordinate finding the nearest fiducial and plotting it\n",
    "\n",
    "x, y = 736689, 8620360\n",
    "\n",
    "\n",
    "ind, distance = find_nearest_point_ind(gdf_AEM, Point(x,y))\n",
    "\n",
    "near_fid = gdf_AEM.iloc[ind]"
   ]
  },
  {
   "cell_type": "code",
   "execution_count": 16,
   "metadata": {},
   "outputs": [],
   "source": [
    "# Now open the pmap file as a dictionary\n",
    "\n",
    "infile = df[df['fiducial'] == near_fid['fiducial ']]['matfile'].values[0]\n",
    "\n",
    "D = loadmat(infile)"
   ]
  },
  {
   "cell_type": "code",
   "execution_count": 41,
   "metadata": {},
   "outputs": [
    {
     "name": "stdout",
     "output_type": "stream",
     "text": [
      "[('binfile', 'O'), ('comment', 'O'), ('flightnumber', 'O'), ('linenumber', 'O'), ('fidnumber', 'O'), ('easting', 'O'), ('northing', 'O'), ('ndata', 'O'), ('starttime', 'O'), ('endtime', 'O'), ('samplingtime', 'O'), ('nchain', 'O'), ('nsample', 'O'), ('nburnin', 'O'), ('nnuisance', 'O'), ('nl_min', 'O'), ('nl_max', 'O'), ('p_param', 'O'), ('pmin', 'O'), ('pmax', 'O'), ('npcells', 'O'), ('v_param', 'O'), ('vmin', 'O'), ('vmax', 'O'), ('nvcells', 'O'), ('sd_v', 'O'), ('sd_p', 'O'), ('sd_bd_v', 'O'), ('ar_birth', 'O'), ('ar_death', 'O'), ('ar_value', 'O'), ('ar_move', 'O'), ('ar_nuisance', 'O'), ('lhist', 'O'), ('cp', 'O'), ('f', 'O'), ('conv', 'O')]\n"
     ]
    }
   ],
   "source": [
    "print(D['M'].dtype)"
   ]
  },
  {
   "cell_type": "code",
   "execution_count": 114,
   "metadata": {},
   "outputs": [
    {
     "data": {
      "text/plain": [
       "50000"
      ]
     },
     "execution_count": 114,
     "metadata": {},
     "output_type": "execute_result"
    }
   ],
   "source": [
    "burnin"
   ]
  },
  {
   "cell_type": "code",
   "execution_count": 116,
   "metadata": {},
   "outputs": [
    {
     "name": "stderr",
     "output_type": "stream",
     "text": [
      "C:\\Users\\PCUser\\Anaconda3\\envs\\garjmcmctdem\\lib\\site-packages\\ipykernel_launcher.py:1: RuntimeWarning: More than 20 figures have been opened. Figures created through the pyplot interface (`matplotlib.pyplot.figure`) are retained until explicitly closed and may consume too much memory. (To control this warning, see the rcParam `figure.max_open_warning`).\n",
      "  \"\"\"Entry point for launching an IPython kernel.\n"
     ]
    },
    {
     "data": {
      "application/vnd.jupyter.widget-view+json": {
       "model_id": "fb8c5874fae04a0ba06d413670e1e6f7",
       "version_major": 2,
       "version_minor": 0
      },
      "text/plain": [
       "Canvas(toolbar=Toolbar(toolitems=[('Home', 'Reset original view', 'home', 'home'), ('Back', 'Back to previous …"
      ]
     },
     "metadata": {},
     "output_type": "display_data"
    }
   ],
   "source": [
    "fig, ax = plt.subplots()\n",
    "\n",
    "\n",
    "for i in range(nchains):\n",
    "    sample = D['M']['conv'][0,0]['sample'][0,i].flatten()\n",
    "    misfits = D['M']['conv'][0,0]['misfit'][0,i].flatten()\n",
    "    ax.plot(sample, misfits/ndata)\n",
    "\n",
    "ax.plot([1, nsample], [1,1], 'k')\n",
    "ax.plot([burnin, burnin],[0.1,1e4], 'k')\n",
    "ax.set_xlim([1, nsample])\n",
    "ax.set_ylim(0.1, 1e4)\n",
    "\n",
    "ax.set_xscale('log')\n",
    "ax.set_yscale('log')\n",
    "plt.show()"
   ]
  },
  {
   "cell_type": "code",
   "execution_count": 113,
   "metadata": {},
   "outputs": [],
   "source": [
    "# Get the pdf\n",
    "\n",
    "freq = D['M']['f'][0,0]\n",
    "\n",
    "pdf = freq / freq.sum(axis =1)[0]\n",
    "\n",
    "pdf[pdf == 0] = np.nan\n",
    "\n",
    "# Get the changepoint histogram\n",
    "\n",
    "cp = D['M']['cp'][0,0].flatten()\n",
    "\n",
    "cp_pdf = D['M']['cp'][0,0] / freq.sum(axis =1)[0]\n",
    "\n",
    "# Get the extent\n",
    "\n",
    "extent = [D['M']['vmin'][0,0][0,0], D['M']['vmax'][0,0][0,0], D['M']['pmax'][0,0][0,0], D['M']['pmin'][0,0][0,0]]\n",
    "\n",
    "# Get the percentile \n",
    "\n",
    "p10 = near_fid[[x for x in gdf_AEM.columns if x.startswith('conductivity_p10')]].astype(np.float).values\n",
    "p50 = near_fid[[x for x in gdf_AEM.columns if x.startswith('conductivity_p50')]].astype(np.float).values\n",
    "p90 = near_fid[[x for x in gdf_AEM.columns if x.startswith('conductivity_p90')]].astype(np.float).values\n",
    "mean = near_fid[[x for x in gdf_AEM.columns if x.startswith('conductivity_mean')]].astype(np.float).values\n",
    "depth_cells = near_fid[[x for x in gdf_AEM.columns if x.startswith('depth')]].astype(np.float).values\n",
    "\n",
    "laybins = D['M']['lhist'][0,0][0,0][1].flatten()\n",
    "laycounts = D['M']['lhist'][0,0][0,0][2].flatten() / freq.sum(axis =1)[0]\n",
    "\n",
    "nsample = D['M']['nsample'][0,0][0,0]\n",
    "\n",
    "ndata = int(D['M']['ndata'][0,0][0,0])\n",
    "nsamples = np.int(D['M']['nsample'][0,0][0,0])\n",
    "nchains = np.int(D['M']['nchain'][0,0][0,0])\n",
    "burnin = int(D['M']['nburnin'][0,0][0,0])\n"
   ]
  },
  {
   "cell_type": "code",
   "execution_count": 129,
   "metadata": {},
   "outputs": [
    {
     "name": "stderr",
     "output_type": "stream",
     "text": [
      "C:\\Users\\PCUser\\Anaconda3\\envs\\garjmcmctdem\\lib\\site-packages\\ipykernel_launcher.py:1: RuntimeWarning: More than 20 figures have been opened. Figures created through the pyplot interface (`matplotlib.pyplot.figure`) are retained until explicitly closed and may consume too much memory. (To control this warning, see the rcParam `figure.max_open_warning`).\n",
      "  \"\"\"Entry point for launching an IPython kernel.\n"
     ]
    },
    {
     "data": {
      "application/vnd.jupyter.widget-view+json": {
       "model_id": "a3f3e962006c4951b1849bf08593d842",
       "version_major": 2,
       "version_minor": 0
      },
      "text/plain": [
       "Canvas(toolbar=Toolbar(toolitems=[('Home', 'Reset original view', 'home', 'home'), ('Back', 'Back to previous …"
      ]
     },
     "metadata": {},
     "output_type": "display_data"
    },
    {
     "data": {
      "text/plain": [
       "<matplotlib.colorbar.Colorbar at 0x17a29a38e80>"
      ]
     },
     "execution_count": 129,
     "metadata": {},
     "output_type": "execute_result"
    }
   ],
   "source": [
    "fig = plt.figure(figsize = (5,10))\n",
    "\n",
    "fig.canvas.layout.width = '12in'\n",
    "fig.canvas.layout.height= '8in'\n",
    "\n",
    "ax1 = fig.add_axes([0.05, 0.2, 0.35, 0.7])\n",
    "ax2 = fig.add_axes([0.45, 0.2, 0.2, 0.7])\n",
    "ax3 = fig.add_axes([0.72, 0.2, 0.2, 0.35])\n",
    "ax4 = fig.add_axes([0.72, 0.6, 0.2, 0.3])\n",
    "cbar_ax = fig.add_axes([0.05, 0.1, 0.35, 0.02])\n",
    "\n",
    "\n",
    "# Plot probability map\n",
    "im = ax1.imshow(pdf, extent = extent, aspect = 'auto', cmap = 'rainbow')\n",
    "#  PLot the median, and percentile plots\n",
    "ax1.plot(np.log10(p10), depth_cells, c = 'k',linestyle='dashed', label = 'p10')\n",
    "ax1.plot(np.log10(p90), depth_cells, c = 'k',linestyle='dashed', label = 'p90')\n",
    "ax1.plot(np.log10(p50), depth_cells, c = 'k',label = 'p50')\n",
    "ax1.plot(np.log10(mean), depth_cells, c = 'grey',label = 'mean')\n",
    "\n",
    "ax1.set_title('probability map')\n",
    "ax1.set_ylabel('depth (mBGL)')\n",
    "ax1.set_xlabel('log10 conductivity (S/m)')\n",
    "ax1.grid(which = 'both')\n",
    "ax1.legend()\n",
    "\n",
    "ax2.plot(cp_pdf, depth_cells)\n",
    "ax2.set_ylim(ax2.get_ylim()[::-1])\n",
    "ax2.set_title('change point probability')\n",
    "ax2.set_ylim(D['M']['pmax'][0,0][0,0], D['M']['pmin'][0,0][0,0])\n",
    "\n",
    "ax3.bar(laybins, height = laycounts)\n",
    "\n",
    "ax3.set_xlabel (\"no of layers\")\n",
    "\n",
    "for i in range(nchains):\n",
    "    sample = D['M']['conv'][0,0]['sample'][0,i].flatten()\n",
    "    misfits = D['M']['conv'][0,0]['misfit'][0,i].flatten()\n",
    "    ax4.plot(sample, misfits/ndata)\n",
    "\n",
    "ax4.plot([1, nsample], [1,1], 'k')\n",
    "ax4.plot([burnin, burnin],[0.1,1e4], 'k')\n",
    "ax4.set_xlim([1, nsample])\n",
    "ax4.set_ylim(0.1, 1e4)\n",
    "\n",
    "ax4.set_xscale('log')\n",
    "ax4.set_yscale('log')\n",
    "\n",
    "ax4.set_xlabel(\"sample #\")\n",
    "ax4.set_ylabel(\"Normalised misfit\")\n",
    "\n",
    "fig.colorbar(im, cax=cbar_ax, orientation='horizontal')\n"
   ]
  },
  {
   "cell_type": "code",
   "execution_count": null,
   "metadata": {},
   "outputs": [],
   "source": []
  }
 ],
 "metadata": {
  "kernelspec": {
   "display_name": "garjmcmctdem",
   "language": "python",
   "name": "garjmcmctdem"
  },
  "language_info": {
   "codemirror_mode": {
    "name": "ipython",
    "version": 3
   },
   "file_extension": ".py",
   "mimetype": "text/x-python",
   "name": "python",
   "nbconvert_exporter": "python",
   "pygments_lexer": "ipython3",
   "version": "3.7.3"
  }
 },
 "nbformat": 4,
 "nbformat_minor": 4
}
