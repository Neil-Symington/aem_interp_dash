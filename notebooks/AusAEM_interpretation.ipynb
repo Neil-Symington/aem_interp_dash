{
 "cells": [
  {
   "cell_type": "code",
   "execution_count": null,
   "outputs": [],
   "source": [
    "%matplotlib inline"
   ],
   "metadata": {
    "collapsed": false,
    "pycharm": {
     "name": "#%%\n"
    }
   }
  },
  {
   "cell_type": "code",
   "execution_count": 70,
   "outputs": [],
   "source": [
    "import matplotlib.pyplot as plt\n",
    "import netCDF4\n",
    "import numpy as np\n",
    "import os\n",
    "import geopandas as gpd\n",
    "import pandas as pd\n",
    "from garjmcmctdem_utils import aem_utils, spatial_functions\n",
    "from garjmcmctdem_utils import plotting_functions as plots"
   ],
   "metadata": {
    "collapsed": false,
    "pycharm": {
     "name": "#%%\n"
    }
   }
  },
  {
   "cell_type": "code",
   "execution_count": 74,
   "outputs": [],
   "source": [
    "# Import the points of interest\n",
    "\n",
    "infile = \"/media/nsymington/My Passport/Beetaloo/Beetaloo_extra_AEM_points.csv\"\n",
    "df = pd.read_csv(infile)\n",
    "\n",
    "gdf = gpd.GeoDataFrame(\n",
    "    df, geometry=gpd.points_from_xy(df.Long_GDA94,\n",
    "                                    df.Lat_GDA94)).set_crs(\"EPSG:4283\").to_crs(\"EPSG:28353\")\n",
    "\n",
    "gdf['easting'] = [gdf['geometry'].iloc[i].x for i in range(len(gdf))]\n",
    "gdf['northing'] = [gdf['geometry'].iloc[i].y for i in range(len(gdf))]"
   ],
   "metadata": {
    "collapsed": false,
    "pycharm": {
     "name": "#%%\n"
    }
   }
  },
  {
   "cell_type": "code",
   "execution_count": 76,
   "outputs": [],
   "source": [
    "aem_nc_path = \"/home/nsymington/Documents/GA/AEM/AusAEM/galeisbs_vector_sum_point_located_NT/AusAEM_NT_galeisbstdem.nc\"\n",
    "\n",
    "\n",
    "aaem = aem_utils.AEM_inversion(name = 'AusAEM (galeisbstdem)',\n",
    "                               inversion_type = 'deterministic',\n",
    "                               netcdf_dataset = netCDF4.Dataset(aem_nc_path))"
   ],
   "metadata": {
    "collapsed": false,
    "pycharm": {
     "name": "#%%\n"
    }
   }
  },
  {
   "cell_type": "code",
   "execution_count": 99,
   "outputs": [],
   "source": [
    "dist, ind = spatial_functions.nearest_neighbours(gdf[['easting', 'northing']].values,\n",
    "                                                 np.column_stack((aaem.data['easting'][:],\n",
    "                                                                  aaem.data['northing'][:])),\n",
    "                                                 max_distance=10000)\n",
    "line_inds = aaem.data['line_index'][ind].data\n",
    "\n",
    "lines = aaem.data['line'][line_inds].data\n",
    "\n",
    "gdf['ausaem_nn_ind'] = ind\n",
    "gdf['ausaem_nn_dist'] = dist\n",
    "gdf['line'] = lines"
   ],
   "metadata": {
    "collapsed": false,
    "pycharm": {
     "name": "#%%\n"
    }
   }
  },
  {
   "cell_type": "code",
   "execution_count": 84,
   "outputs": [],
   "source": [
    "# Now we have the lines we can grid the lci conductivity data onto vertical grids (known as sections)\n",
    "# this is the easiest way to visualise the AEM conuctivity in 2-dimensions\n",
    "\n",
    "# Assign the lci variables to grid\n",
    "grid_vars = ['conductivity', 'phid']\n",
    "\n",
    "# Define the resolution of the sections\n",
    "xres, yres = 80., 5.\n",
    "\n",
    "\n",
    "# Define the output directory if saving the grids as hdf plots\n",
    "\n",
    "grid_dir = \"/media/nsymington/My Passport/Beetaloo/section_grids\"\n",
    "\n",
    "# if the directory doesn't exist, then create it\n",
    "if not os.path.exists(grid_dir):\n",
    "    os.mkdir(grid_dir)\n",
    "\n",
    "aaem.grid_sections(variables = grid_vars, lines = np.unique(lines),\n",
    "                      xres = xres, yres = yres,\n",
    "                      return_interpolated = True, save_to_disk = True,\n",
    "                      output_dir = grid_dir)\n",
    "\n"
   ],
   "metadata": {
    "collapsed": false,
    "pycharm": {
     "name": "#%%\n"
    }
   }
  },
  {
   "cell_type": "code",
   "execution_count": 92,
   "outputs": [],
   "source": [
    "# panel 1 shows phid for a section.\n",
    "def AusAEM_fid_plot(ax, cond, depth):\n",
    "    cond_expanded = np.zeros(shape=2 * len(cond) + 1,\n",
    "                                 dtype=np.float)\n",
    "\n",
    "    cond_expanded[1:] = np.repeat(cond, 2)\n",
    "\n",
    "    depth_expanded = (np.max(depth) + 10) * np.ones(shape=len(cond_expanded),\n",
    "                                                            dtype=np.float)\n",
    "\n",
    "    depth_expanded[:-1] = np.repeat(depth, 2)\n",
    "\n",
    "    ax.plot(np.log10(cond_expanded), depth_expanded, c = 'k',\n",
    "             linestyle = 'solid', label = 'AusAEM profile')\n",
    "    ax.set_xticklabels([round(10 ** float(x), 4) for x in ax.get_xticks()])\n",
    "\n",
    "    ax.set_ylabel('depth (mBGL)')\n",
    "    ax.set_xlabel('Conductivity (S/m)')\n",
    "    ax.grid(which = 'both')\n",
    "\n",
    "    return ax\n",
    "\n",
    "def dist_2_northticks(ax, section_data):\n",
    "    north_ticks = ax.get_xticks().copy()\n",
    "\n",
    "    for i, t in enumerate(north_ticks):\n",
    "        mask = np.where(np.isclose(section_data['grid_distances'],t))[0]\n",
    "        northing = section_data['northing'][mask]\n",
    "        if len(northing) > 0:\n",
    "            north_ticks[i]= northing[0]\n",
    "        else:\n",
    "            north_ticks[i]= np.nan\n",
    "\n",
    "    ax.set_xticklabels(north_ticks)\n",
    "\n",
    "def Aus_AEM_plot(point, bore = None, save_fig = True, fig_size = (10,6)):\n",
    "    plt.close('all')\n",
    "\n",
    "    fig = plt.figure(figsize = fig_size)\n",
    "\n",
    "    ax1 = fig.add_axes([0.55, 0.62, 0.2, 0.3])\n",
    "    ax2 = fig.add_axes([0.1, 0.4, 0.8, 0.1])\n",
    "    ax3 = fig.add_axes([0.1, 0.1, 0.8, 0.3])\n",
    "    ax4 = fig.add_axes([0.25, 0.62, 0.2, 0.3])\n",
    "\n",
    "    cbar_ax = fig.add_axes([0.8, 0.6, 0.01, 0.3])\n",
    "\n",
    "    cond = aaem.data['conductivity'][point]\n",
    "\n",
    "    line_ind = aaem.data['line_index'][point]\n",
    "    line = int(aaem.data['line'][line_ind].data)\n",
    "\n",
    "\n",
    "\n",
    "    layer_top_depth = aaem.data['layer_top_depth'][point]\n",
    "\n",
    "    fid = aaem.data['fiducial'][point]\n",
    "    easting = aaem.data['easting'][point]\n",
    "    northing = aaem.data['northing'][point]\n",
    "    elevation = aaem.data['elevation'][point]\n",
    "\n",
    "    ax1 = AusAEM_fid_plot(ax1, cond, layer_top_depth)\n",
    "\n",
    "    ax1.set_ylim(plot_kwargs['panel_2']['max_depth'],0)\n",
    "\n",
    "\n",
    "    #ax1.legend()\n",
    "    res1 = plots.plot_single_line(ax2, aaem.section_data[line],\n",
    "                                 'phid', plot_kwargs['panel_1'])\n",
    "\n",
    "    ax2.set_title('AusAEM conductivity section - ' + str(line))\n",
    "\n",
    "    dist = spatial_functions.xy_2_var(aaem.section_data[line],\n",
    "                                      np.array([[easting, northing]]),\n",
    "                                      'grid_distances')\n",
    "\n",
    "\n",
    "    # Find distance along the lci section\n",
    "\n",
    "\n",
    "    im2 = plots.plot_grid(ax3, aaem.section_data[line], 'conductivity',\n",
    "                              panel_kwargs = plot_kwargs['panel_2'])\n",
    "\n",
    "    ax3.plot([dist, dist], [-500, 500], 'pink')\n",
    "    ax3.set_xlabel(\"Distance along line (m)\")\n",
    "\n",
    "    ax2.set_xlim(dist - plot_kwargs['panel_1']['buffer'],\n",
    "                 dist + plot_kwargs['panel_1']['buffer'])\n",
    "    ax3.set_xlim(dist - plot_kwargs['panel_2']['buffer'],\n",
    "                 dist + plot_kwargs['panel_2']['buffer'])\n",
    "\n",
    "    # For axis four we will create the AEM lines plotted\n",
    "\n",
    "    for item in aaem.section_data.keys():\n",
    "        if item == line:\n",
    "            colour = 'blue'\n",
    "        else:\n",
    "            colour = 'k'\n",
    "        ax4.plot(aaem.section_data[item]['easting'], aaem.section_data[item]['northing'],\n",
    "                  c = colour)\n",
    "    ax4.plot([easting], [northing], 'r+')\n",
    "\n",
    "    cb = fig.colorbar(im2, cax=cbar_ax, orientation='vertical')\n",
    "\n",
    "    cb.ax.set_yticklabels([round(10 ** x, 4) for x in cb.get_ticks()])\n",
    "    cb.set_label('conductivity (S/m)', fontsize=10)\n",
    "\n",
    "    ax_array = np.array([ax1,ax2,ax3,ax4])\n",
    "    return fig, ax_array"
   ],
   "metadata": {
    "collapsed": false,
    "pycharm": {
     "name": "#%%\n"
    }
   }
  },
  {
   "cell_type": "code",
   "execution_count": 93,
   "outputs": [
    {
     "data": {
      "text/plain": "         fiducial        easting   northing  layer_elev  thickness  \\\n0     6276.399902  181855.703125  8033348.5  162.330214  43.149782   \n1     6296.399902  181834.593750  8034552.0  160.815876  44.324123   \n2     6316.399902  181824.500000  8035741.5  160.815876  44.364117   \n3     6336.399902  181805.796875  8036925.0  159.901573  46.248420   \n4     6356.399902  181785.093750  8038099.5  160.602150  45.987846   \n...           ...            ...        ...         ...        ...   \n4311  5816.200195  489739.812500  8048227.0  198.053124  47.436881   \n4312  5836.200195  489742.187500  8046874.0  196.241740  48.928258   \n4313  5856.200195  489745.093750  8045527.0  193.389716  51.870278   \n4314  5876.200195  489748.406250  8044236.0  193.389716  51.330285   \n4315  5896.200195  489731.812500  8042961.5  189.837836  54.162164   \n\n      median_sig  max_sigma  min_sigma     line  distance_a  weighted_m  \\\n0       0.068907   0.131747   0.026509  1010004      196920    0.079080   \n1       0.073612   0.178269   0.024908  1010004      195720    0.089051   \n2       0.089354   0.177754   0.033379  1010004      194520    0.103118   \n3       0.066517   0.138140   0.013940  1010004      193340    0.077953   \n4       0.112596   0.186038   0.059540  1010004      192160    0.115670   \n...          ...        ...        ...      ...         ...         ...   \n4311    0.016945   0.020779   0.014079  1160002      183880    0.017840   \n4312    0.055976   0.064104   0.031467  1160002      185220    0.048210   \n4313    0.092682   0.115726   0.056902  1160002      186580    0.082173   \n4314    0.066477   0.085524   0.047295  1160002      187860    0.061894   \n4315    0.064622   0.100412   0.029509  1160002      189140    0.055341   \n\n      sigma_rati                         geometry  \n0       1.833497  POINT (181855.703125 8033348.5)  \n1       3.093551     POINT (181834.59375 8034552)  \n2       2.166140       POINT (181824.5 8035741.5)  \n3       0.928527    POINT (181805.796875 8036925)  \n4       2.701610   POINT (181785.09375 8038099.5)  \n...          ...                              ...  \n4311    0.832168      POINT (489739.8125 8048227)  \n4312    1.735347      POINT (489742.1875 8046874)  \n4313    1.680669     POINT (489745.09375 8045527)  \n4314    1.381410     POINT (489748.40625 8044236)  \n4315    2.125578    POINT (489731.8125 8042961.5)  \n\n[4316 rows x 13 columns]",
      "text/html": "<div>\n<style scoped>\n    .dataframe tbody tr th:only-of-type {\n        vertical-align: middle;\n    }\n\n    .dataframe tbody tr th {\n        vertical-align: top;\n    }\n\n    .dataframe thead th {\n        text-align: right;\n    }\n</style>\n<table border=\"1\" class=\"dataframe\">\n  <thead>\n    <tr style=\"text-align: right;\">\n      <th></th>\n      <th>fiducial</th>\n      <th>easting</th>\n      <th>northing</th>\n      <th>layer_elev</th>\n      <th>thickness</th>\n      <th>median_sig</th>\n      <th>max_sigma</th>\n      <th>min_sigma</th>\n      <th>line</th>\n      <th>distance_a</th>\n      <th>weighted_m</th>\n      <th>sigma_rati</th>\n      <th>geometry</th>\n    </tr>\n  </thead>\n  <tbody>\n    <tr>\n      <th>0</th>\n      <td>6276.399902</td>\n      <td>181855.703125</td>\n      <td>8033348.5</td>\n      <td>162.330214</td>\n      <td>43.149782</td>\n      <td>0.068907</td>\n      <td>0.131747</td>\n      <td>0.026509</td>\n      <td>1010004</td>\n      <td>196920</td>\n      <td>0.079080</td>\n      <td>1.833497</td>\n      <td>POINT (181855.703125 8033348.5)</td>\n    </tr>\n    <tr>\n      <th>1</th>\n      <td>6296.399902</td>\n      <td>181834.593750</td>\n      <td>8034552.0</td>\n      <td>160.815876</td>\n      <td>44.324123</td>\n      <td>0.073612</td>\n      <td>0.178269</td>\n      <td>0.024908</td>\n      <td>1010004</td>\n      <td>195720</td>\n      <td>0.089051</td>\n      <td>3.093551</td>\n      <td>POINT (181834.59375 8034552)</td>\n    </tr>\n    <tr>\n      <th>2</th>\n      <td>6316.399902</td>\n      <td>181824.500000</td>\n      <td>8035741.5</td>\n      <td>160.815876</td>\n      <td>44.364117</td>\n      <td>0.089354</td>\n      <td>0.177754</td>\n      <td>0.033379</td>\n      <td>1010004</td>\n      <td>194520</td>\n      <td>0.103118</td>\n      <td>2.166140</td>\n      <td>POINT (181824.5 8035741.5)</td>\n    </tr>\n    <tr>\n      <th>3</th>\n      <td>6336.399902</td>\n      <td>181805.796875</td>\n      <td>8036925.0</td>\n      <td>159.901573</td>\n      <td>46.248420</td>\n      <td>0.066517</td>\n      <td>0.138140</td>\n      <td>0.013940</td>\n      <td>1010004</td>\n      <td>193340</td>\n      <td>0.077953</td>\n      <td>0.928527</td>\n      <td>POINT (181805.796875 8036925)</td>\n    </tr>\n    <tr>\n      <th>4</th>\n      <td>6356.399902</td>\n      <td>181785.093750</td>\n      <td>8038099.5</td>\n      <td>160.602150</td>\n      <td>45.987846</td>\n      <td>0.112596</td>\n      <td>0.186038</td>\n      <td>0.059540</td>\n      <td>1010004</td>\n      <td>192160</td>\n      <td>0.115670</td>\n      <td>2.701610</td>\n      <td>POINT (181785.09375 8038099.5)</td>\n    </tr>\n    <tr>\n      <th>...</th>\n      <td>...</td>\n      <td>...</td>\n      <td>...</td>\n      <td>...</td>\n      <td>...</td>\n      <td>...</td>\n      <td>...</td>\n      <td>...</td>\n      <td>...</td>\n      <td>...</td>\n      <td>...</td>\n      <td>...</td>\n      <td>...</td>\n    </tr>\n    <tr>\n      <th>4311</th>\n      <td>5816.200195</td>\n      <td>489739.812500</td>\n      <td>8048227.0</td>\n      <td>198.053124</td>\n      <td>47.436881</td>\n      <td>0.016945</td>\n      <td>0.020779</td>\n      <td>0.014079</td>\n      <td>1160002</td>\n      <td>183880</td>\n      <td>0.017840</td>\n      <td>0.832168</td>\n      <td>POINT (489739.8125 8048227)</td>\n    </tr>\n    <tr>\n      <th>4312</th>\n      <td>5836.200195</td>\n      <td>489742.187500</td>\n      <td>8046874.0</td>\n      <td>196.241740</td>\n      <td>48.928258</td>\n      <td>0.055976</td>\n      <td>0.064104</td>\n      <td>0.031467</td>\n      <td>1160002</td>\n      <td>185220</td>\n      <td>0.048210</td>\n      <td>1.735347</td>\n      <td>POINT (489742.1875 8046874)</td>\n    </tr>\n    <tr>\n      <th>4313</th>\n      <td>5856.200195</td>\n      <td>489745.093750</td>\n      <td>8045527.0</td>\n      <td>193.389716</td>\n      <td>51.870278</td>\n      <td>0.092682</td>\n      <td>0.115726</td>\n      <td>0.056902</td>\n      <td>1160002</td>\n      <td>186580</td>\n      <td>0.082173</td>\n      <td>1.680669</td>\n      <td>POINT (489745.09375 8045527)</td>\n    </tr>\n    <tr>\n      <th>4314</th>\n      <td>5876.200195</td>\n      <td>489748.406250</td>\n      <td>8044236.0</td>\n      <td>193.389716</td>\n      <td>51.330285</td>\n      <td>0.066477</td>\n      <td>0.085524</td>\n      <td>0.047295</td>\n      <td>1160002</td>\n      <td>187860</td>\n      <td>0.061894</td>\n      <td>1.381410</td>\n      <td>POINT (489748.40625 8044236)</td>\n    </tr>\n    <tr>\n      <th>4315</th>\n      <td>5896.200195</td>\n      <td>489731.812500</td>\n      <td>8042961.5</td>\n      <td>189.837836</td>\n      <td>54.162164</td>\n      <td>0.064622</td>\n      <td>0.100412</td>\n      <td>0.029509</td>\n      <td>1160002</td>\n      <td>189140</td>\n      <td>0.055341</td>\n      <td>2.125578</td>\n      <td>POINT (489731.8125 8042961.5)</td>\n    </tr>\n  </tbody>\n</table>\n<p>4316 rows × 13 columns</p>\n</div>"
     },
     "execution_count": 93,
     "metadata": {},
     "output_type": "execute_result"
    }
   ],
   "source": [
    "# bring in the previously interpreted points\n",
    "\n",
    "infile = \"/media/nsymington/My Passport/Beetaloo/Beetaloo_base_cretaceous_interpreted.csv\"\n",
    "\n",
    "df_interp = pd.read_csv(infile)\n",
    "\n",
    "df_interp"
   ],
   "metadata": {
    "collapsed": false,
    "pycharm": {
     "name": "#%%\n"
    }
   }
  },
  {
   "cell_type": "code",
   "execution_count": 132,
   "outputs": [
    {
     "name": "stderr",
     "output_type": "stream",
     "text": [
      "/home/nsymington/anaconda3/envs/AEM_interp/lib/python3.7/site-packages/ipykernel_launcher.py:13: RuntimeWarning: divide by zero encountered in log10\n",
      "  del sys.path[0]\n",
      "/home/nsymington/anaconda3/envs/AEM_interp/lib/python3.7/site-packages/ipykernel_launcher.py:15: UserWarning: FixedFormatter should only be used together with FixedLocator\n",
      "  from ipykernel import kernelapp as app\n",
      "/home/nsymington/anaconda3/envs/AEM_interp/lib/python3.7/site-packages/ipykernel_launcher.py:105: UserWarning: FixedFormatter should only be used together with FixedLocator\n",
      "/home/nsymington/anaconda3/envs/AEM_interp/lib/python3.7/site-packages/ipykernel_launcher.py:13: RuntimeWarning: divide by zero encountered in log10\n",
      "  del sys.path[0]\n",
      "/home/nsymington/anaconda3/envs/AEM_interp/lib/python3.7/site-packages/ipykernel_launcher.py:15: UserWarning: FixedFormatter should only be used together with FixedLocator\n",
      "  from ipykernel import kernelapp as app\n",
      "/home/nsymington/anaconda3/envs/AEM_interp/lib/python3.7/site-packages/ipykernel_launcher.py:105: UserWarning: FixedFormatter should only be used together with FixedLocator\n",
      "/home/nsymington/anaconda3/envs/AEM_interp/lib/python3.7/site-packages/ipykernel_launcher.py:13: RuntimeWarning: divide by zero encountered in log10\n",
      "  del sys.path[0]\n",
      "/home/nsymington/anaconda3/envs/AEM_interp/lib/python3.7/site-packages/ipykernel_launcher.py:15: UserWarning: FixedFormatter should only be used together with FixedLocator\n",
      "  from ipykernel import kernelapp as app\n",
      "/home/nsymington/anaconda3/envs/AEM_interp/lib/python3.7/site-packages/ipykernel_launcher.py:105: UserWarning: FixedFormatter should only be used together with FixedLocator\n",
      "/home/nsymington/anaconda3/envs/AEM_interp/lib/python3.7/site-packages/ipykernel_launcher.py:13: RuntimeWarning: divide by zero encountered in log10\n",
      "  del sys.path[0]\n",
      "/home/nsymington/anaconda3/envs/AEM_interp/lib/python3.7/site-packages/ipykernel_launcher.py:15: UserWarning: FixedFormatter should only be used together with FixedLocator\n",
      "  from ipykernel import kernelapp as app\n",
      "/home/nsymington/anaconda3/envs/AEM_interp/lib/python3.7/site-packages/ipykernel_launcher.py:105: UserWarning: FixedFormatter should only be used together with FixedLocator\n",
      "/home/nsymington/anaconda3/envs/AEM_interp/lib/python3.7/site-packages/ipykernel_launcher.py:13: RuntimeWarning: divide by zero encountered in log10\n",
      "  del sys.path[0]\n",
      "/home/nsymington/anaconda3/envs/AEM_interp/lib/python3.7/site-packages/ipykernel_launcher.py:15: UserWarning: FixedFormatter should only be used together with FixedLocator\n",
      "  from ipykernel import kernelapp as app\n",
      "/home/nsymington/anaconda3/envs/AEM_interp/lib/python3.7/site-packages/ipykernel_launcher.py:105: UserWarning: FixedFormatter should only be used together with FixedLocator\n",
      "/home/nsymington/anaconda3/envs/AEM_interp/lib/python3.7/site-packages/ipykernel_launcher.py:13: RuntimeWarning: divide by zero encountered in log10\n",
      "  del sys.path[0]\n",
      "/home/nsymington/anaconda3/envs/AEM_interp/lib/python3.7/site-packages/ipykernel_launcher.py:15: UserWarning: FixedFormatter should only be used together with FixedLocator\n",
      "  from ipykernel import kernelapp as app\n",
      "/home/nsymington/anaconda3/envs/AEM_interp/lib/python3.7/site-packages/ipykernel_launcher.py:105: UserWarning: FixedFormatter should only be used together with FixedLocator\n",
      "/home/nsymington/anaconda3/envs/AEM_interp/lib/python3.7/site-packages/ipykernel_launcher.py:13: RuntimeWarning: divide by zero encountered in log10\n",
      "  del sys.path[0]\n",
      "/home/nsymington/anaconda3/envs/AEM_interp/lib/python3.7/site-packages/ipykernel_launcher.py:15: UserWarning: FixedFormatter should only be used together with FixedLocator\n",
      "  from ipykernel import kernelapp as app\n",
      "/home/nsymington/anaconda3/envs/AEM_interp/lib/python3.7/site-packages/ipykernel_launcher.py:105: UserWarning: FixedFormatter should only be used together with FixedLocator\n",
      "/home/nsymington/anaconda3/envs/AEM_interp/lib/python3.7/site-packages/ipykernel_launcher.py:13: RuntimeWarning: divide by zero encountered in log10\n",
      "  del sys.path[0]\n",
      "/home/nsymington/anaconda3/envs/AEM_interp/lib/python3.7/site-packages/ipykernel_launcher.py:15: UserWarning: FixedFormatter should only be used together with FixedLocator\n",
      "  from ipykernel import kernelapp as app\n",
      "/home/nsymington/anaconda3/envs/AEM_interp/lib/python3.7/site-packages/ipykernel_launcher.py:105: UserWarning: FixedFormatter should only be used together with FixedLocator\n",
      "/home/nsymington/anaconda3/envs/AEM_interp/lib/python3.7/site-packages/ipykernel_launcher.py:13: RuntimeWarning: divide by zero encountered in log10\n",
      "  del sys.path[0]\n",
      "/home/nsymington/anaconda3/envs/AEM_interp/lib/python3.7/site-packages/ipykernel_launcher.py:15: UserWarning: FixedFormatter should only be used together with FixedLocator\n",
      "  from ipykernel import kernelapp as app\n",
      "/home/nsymington/anaconda3/envs/AEM_interp/lib/python3.7/site-packages/ipykernel_launcher.py:105: UserWarning: FixedFormatter should only be used together with FixedLocator\n",
      "/home/nsymington/anaconda3/envs/AEM_interp/lib/python3.7/site-packages/ipykernel_launcher.py:13: RuntimeWarning: divide by zero encountered in log10\n",
      "  del sys.path[0]\n",
      "/home/nsymington/anaconda3/envs/AEM_interp/lib/python3.7/site-packages/ipykernel_launcher.py:15: UserWarning: FixedFormatter should only be used together with FixedLocator\n",
      "  from ipykernel import kernelapp as app\n",
      "/home/nsymington/anaconda3/envs/AEM_interp/lib/python3.7/site-packages/ipykernel_launcher.py:105: UserWarning: FixedFormatter should only be used together with FixedLocator\n",
      "/home/nsymington/anaconda3/envs/AEM_interp/lib/python3.7/site-packages/ipykernel_launcher.py:13: RuntimeWarning: divide by zero encountered in log10\n",
      "  del sys.path[0]\n",
      "/home/nsymington/anaconda3/envs/AEM_interp/lib/python3.7/site-packages/ipykernel_launcher.py:15: UserWarning: FixedFormatter should only be used together with FixedLocator\n",
      "  from ipykernel import kernelapp as app\n",
      "/home/nsymington/anaconda3/envs/AEM_interp/lib/python3.7/site-packages/ipykernel_launcher.py:105: UserWarning: FixedFormatter should only be used together with FixedLocator\n",
      "/home/nsymington/anaconda3/envs/AEM_interp/lib/python3.7/site-packages/ipykernel_launcher.py:13: RuntimeWarning: divide by zero encountered in log10\n",
      "  del sys.path[0]\n",
      "/home/nsymington/anaconda3/envs/AEM_interp/lib/python3.7/site-packages/ipykernel_launcher.py:15: UserWarning: FixedFormatter should only be used together with FixedLocator\n",
      "  from ipykernel import kernelapp as app\n",
      "/home/nsymington/anaconda3/envs/AEM_interp/lib/python3.7/site-packages/ipykernel_launcher.py:105: UserWarning: FixedFormatter should only be used together with FixedLocator\n",
      "/home/nsymington/anaconda3/envs/AEM_interp/lib/python3.7/site-packages/ipykernel_launcher.py:13: RuntimeWarning: divide by zero encountered in log10\n",
      "  del sys.path[0]\n",
      "/home/nsymington/anaconda3/envs/AEM_interp/lib/python3.7/site-packages/ipykernel_launcher.py:15: UserWarning: FixedFormatter should only be used together with FixedLocator\n",
      "  from ipykernel import kernelapp as app\n",
      "/home/nsymington/anaconda3/envs/AEM_interp/lib/python3.7/site-packages/ipykernel_launcher.py:105: UserWarning: FixedFormatter should only be used together with FixedLocator\n",
      "/home/nsymington/anaconda3/envs/AEM_interp/lib/python3.7/site-packages/ipykernel_launcher.py:13: RuntimeWarning: divide by zero encountered in log10\n",
      "  del sys.path[0]\n",
      "/home/nsymington/anaconda3/envs/AEM_interp/lib/python3.7/site-packages/ipykernel_launcher.py:15: UserWarning: FixedFormatter should only be used together with FixedLocator\n",
      "  from ipykernel import kernelapp as app\n",
      "/home/nsymington/anaconda3/envs/AEM_interp/lib/python3.7/site-packages/ipykernel_launcher.py:105: UserWarning: FixedFormatter should only be used together with FixedLocator\n",
      "/home/nsymington/anaconda3/envs/AEM_interp/lib/python3.7/site-packages/ipykernel_launcher.py:13: RuntimeWarning: divide by zero encountered in log10\n",
      "  del sys.path[0]\n",
      "/home/nsymington/anaconda3/envs/AEM_interp/lib/python3.7/site-packages/ipykernel_launcher.py:15: UserWarning: FixedFormatter should only be used together with FixedLocator\n",
      "  from ipykernel import kernelapp as app\n",
      "/home/nsymington/anaconda3/envs/AEM_interp/lib/python3.7/site-packages/ipykernel_launcher.py:105: UserWarning: FixedFormatter should only be used together with FixedLocator\n",
      "/home/nsymington/anaconda3/envs/AEM_interp/lib/python3.7/site-packages/ipykernel_launcher.py:13: RuntimeWarning: divide by zero encountered in log10\n",
      "  del sys.path[0]\n",
      "/home/nsymington/anaconda3/envs/AEM_interp/lib/python3.7/site-packages/ipykernel_launcher.py:15: UserWarning: FixedFormatter should only be used together with FixedLocator\n",
      "  from ipykernel import kernelapp as app\n",
      "/home/nsymington/anaconda3/envs/AEM_interp/lib/python3.7/site-packages/ipykernel_launcher.py:105: UserWarning: FixedFormatter should only be used together with FixedLocator\n",
      "/home/nsymington/anaconda3/envs/AEM_interp/lib/python3.7/site-packages/ipykernel_launcher.py:13: RuntimeWarning: divide by zero encountered in log10\n",
      "  del sys.path[0]\n",
      "/home/nsymington/anaconda3/envs/AEM_interp/lib/python3.7/site-packages/ipykernel_launcher.py:15: UserWarning: FixedFormatter should only be used together with FixedLocator\n",
      "  from ipykernel import kernelapp as app\n",
      "/home/nsymington/anaconda3/envs/AEM_interp/lib/python3.7/site-packages/ipykernel_launcher.py:105: UserWarning: FixedFormatter should only be used together with FixedLocator\n",
      "/home/nsymington/anaconda3/envs/AEM_interp/lib/python3.7/site-packages/ipykernel_launcher.py:13: RuntimeWarning: divide by zero encountered in log10\n",
      "  del sys.path[0]\n",
      "/home/nsymington/anaconda3/envs/AEM_interp/lib/python3.7/site-packages/ipykernel_launcher.py:15: UserWarning: FixedFormatter should only be used together with FixedLocator\n",
      "  from ipykernel import kernelapp as app\n",
      "/home/nsymington/anaconda3/envs/AEM_interp/lib/python3.7/site-packages/ipykernel_launcher.py:105: UserWarning: FixedFormatter should only be used together with FixedLocator\n",
      "/home/nsymington/anaconda3/envs/AEM_interp/lib/python3.7/site-packages/ipykernel_launcher.py:13: RuntimeWarning: divide by zero encountered in log10\n",
      "  del sys.path[0]\n",
      "/home/nsymington/anaconda3/envs/AEM_interp/lib/python3.7/site-packages/ipykernel_launcher.py:15: UserWarning: FixedFormatter should only be used together with FixedLocator\n",
      "  from ipykernel import kernelapp as app\n",
      "/home/nsymington/anaconda3/envs/AEM_interp/lib/python3.7/site-packages/ipykernel_launcher.py:105: UserWarning: FixedFormatter should only be used together with FixedLocator\n",
      "/home/nsymington/anaconda3/envs/AEM_interp/lib/python3.7/site-packages/ipykernel_launcher.py:13: RuntimeWarning: divide by zero encountered in log10\n",
      "  del sys.path[0]\n",
      "/home/nsymington/anaconda3/envs/AEM_interp/lib/python3.7/site-packages/ipykernel_launcher.py:15: UserWarning: FixedFormatter should only be used together with FixedLocator\n",
      "  from ipykernel import kernelapp as app\n",
      "/home/nsymington/anaconda3/envs/AEM_interp/lib/python3.7/site-packages/ipykernel_launcher.py:105: UserWarning: FixedFormatter should only be used together with FixedLocator\n",
      "/home/nsymington/anaconda3/envs/AEM_interp/lib/python3.7/site-packages/ipykernel_launcher.py:13: RuntimeWarning: divide by zero encountered in log10\n",
      "  del sys.path[0]\n",
      "/home/nsymington/anaconda3/envs/AEM_interp/lib/python3.7/site-packages/ipykernel_launcher.py:15: UserWarning: FixedFormatter should only be used together with FixedLocator\n",
      "  from ipykernel import kernelapp as app\n",
      "/home/nsymington/anaconda3/envs/AEM_interp/lib/python3.7/site-packages/ipykernel_launcher.py:105: UserWarning: FixedFormatter should only be used together with FixedLocator\n",
      "/home/nsymington/anaconda3/envs/AEM_interp/lib/python3.7/site-packages/ipykernel_launcher.py:13: RuntimeWarning: divide by zero encountered in log10\n",
      "  del sys.path[0]\n",
      "/home/nsymington/anaconda3/envs/AEM_interp/lib/python3.7/site-packages/ipykernel_launcher.py:15: UserWarning: FixedFormatter should only be used together with FixedLocator\n",
      "  from ipykernel import kernelapp as app\n",
      "/home/nsymington/anaconda3/envs/AEM_interp/lib/python3.7/site-packages/ipykernel_launcher.py:105: UserWarning: FixedFormatter should only be used together with FixedLocator\n",
      "/home/nsymington/anaconda3/envs/AEM_interp/lib/python3.7/site-packages/ipykernel_launcher.py:13: RuntimeWarning: divide by zero encountered in log10\n",
      "  del sys.path[0]\n",
      "/home/nsymington/anaconda3/envs/AEM_interp/lib/python3.7/site-packages/ipykernel_launcher.py:15: UserWarning: FixedFormatter should only be used together with FixedLocator\n",
      "  from ipykernel import kernelapp as app\n",
      "/home/nsymington/anaconda3/envs/AEM_interp/lib/python3.7/site-packages/ipykernel_launcher.py:105: UserWarning: FixedFormatter should only be used together with FixedLocator\n",
      "/home/nsymington/anaconda3/envs/AEM_interp/lib/python3.7/site-packages/ipykernel_launcher.py:13: RuntimeWarning: divide by zero encountered in log10\n",
      "  del sys.path[0]\n",
      "/home/nsymington/anaconda3/envs/AEM_interp/lib/python3.7/site-packages/ipykernel_launcher.py:15: UserWarning: FixedFormatter should only be used together with FixedLocator\n",
      "  from ipykernel import kernelapp as app\n",
      "/home/nsymington/anaconda3/envs/AEM_interp/lib/python3.7/site-packages/ipykernel_launcher.py:105: UserWarning: FixedFormatter should only be used together with FixedLocator\n",
      "/home/nsymington/anaconda3/envs/AEM_interp/lib/python3.7/site-packages/ipykernel_launcher.py:13: RuntimeWarning: divide by zero encountered in log10\n",
      "  del sys.path[0]\n",
      "/home/nsymington/anaconda3/envs/AEM_interp/lib/python3.7/site-packages/ipykernel_launcher.py:15: UserWarning: FixedFormatter should only be used together with FixedLocator\n",
      "  from ipykernel import kernelapp as app\n",
      "/home/nsymington/anaconda3/envs/AEM_interp/lib/python3.7/site-packages/ipykernel_launcher.py:105: UserWarning: FixedFormatter should only be used together with FixedLocator\n",
      "/home/nsymington/anaconda3/envs/AEM_interp/lib/python3.7/site-packages/ipykernel_launcher.py:13: RuntimeWarning: divide by zero encountered in log10\n",
      "  del sys.path[0]\n",
      "/home/nsymington/anaconda3/envs/AEM_interp/lib/python3.7/site-packages/ipykernel_launcher.py:15: UserWarning: FixedFormatter should only be used together with FixedLocator\n",
      "  from ipykernel import kernelapp as app\n",
      "/home/nsymington/anaconda3/envs/AEM_interp/lib/python3.7/site-packages/ipykernel_launcher.py:105: UserWarning: FixedFormatter should only be used together with FixedLocator\n",
      "/home/nsymington/anaconda3/envs/AEM_interp/lib/python3.7/site-packages/ipykernel_launcher.py:13: RuntimeWarning: divide by zero encountered in log10\n",
      "  del sys.path[0]\n",
      "/home/nsymington/anaconda3/envs/AEM_interp/lib/python3.7/site-packages/ipykernel_launcher.py:15: UserWarning: FixedFormatter should only be used together with FixedLocator\n",
      "  from ipykernel import kernelapp as app\n",
      "/home/nsymington/anaconda3/envs/AEM_interp/lib/python3.7/site-packages/ipykernel_launcher.py:105: UserWarning: FixedFormatter should only be used together with FixedLocator\n",
      "/home/nsymington/anaconda3/envs/AEM_interp/lib/python3.7/site-packages/ipykernel_launcher.py:13: RuntimeWarning: divide by zero encountered in log10\n",
      "  del sys.path[0]\n",
      "/home/nsymington/anaconda3/envs/AEM_interp/lib/python3.7/site-packages/ipykernel_launcher.py:15: UserWarning: FixedFormatter should only be used together with FixedLocator\n",
      "  from ipykernel import kernelapp as app\n",
      "/home/nsymington/anaconda3/envs/AEM_interp/lib/python3.7/site-packages/ipykernel_launcher.py:105: UserWarning: FixedFormatter should only be used together with FixedLocator\n",
      "/home/nsymington/anaconda3/envs/AEM_interp/lib/python3.7/site-packages/ipykernel_launcher.py:13: RuntimeWarning: divide by zero encountered in log10\n",
      "  del sys.path[0]\n",
      "/home/nsymington/anaconda3/envs/AEM_interp/lib/python3.7/site-packages/ipykernel_launcher.py:15: UserWarning: FixedFormatter should only be used together with FixedLocator\n",
      "  from ipykernel import kernelapp as app\n",
      "/home/nsymington/anaconda3/envs/AEM_interp/lib/python3.7/site-packages/ipykernel_launcher.py:105: UserWarning: FixedFormatter should only be used together with FixedLocator\n"
     ]
    }
   ],
   "source": [
    "plot_kwargs = {'panel_1': {'color': 'black',\n",
    "                      'ylabel': 'phid',\n",
    "                      'legend': False,\n",
    "                         'buffer': 10000.},\n",
    "                  # panel 2 shows the ausaem conductivity section\n",
    "                  'panel_2': {'title': 'LCI conductivity',\n",
    "                      'max_depth': 200.,\n",
    "                      'vmin': 0.001,\n",
    "                      'vmax': 0.5,\n",
    "                      'cmap': 'viridis',\n",
    "                      'ylabel': 'elevation \\n (mAHD)',\n",
    "                       'buffer': 10000.,\n",
    "                       'shade_doi': False}}\n",
    "\n",
    "outdir = \"/media/nsymington/My Passport/Beetaloo/plots\"\n",
    "\n",
    "for index, row in gdf.iterrows():\n",
    "    point =row['ausaem_nn_ind']\n",
    "\n",
    "\n",
    "    fig, ax_array = Aus_AEM_plot(point,\n",
    "                                fig_size = (10,6))\n",
    "    # scatter the interp point on ax1\n",
    "    interp2section(ax_array[2], point, df_interp)\n",
    "\n",
    "    ax_array[3].scatter([row['easting']],\n",
    "                        [row['northing']],\n",
    "                        c = 'pink', marker = 'o')\n",
    "\n",
    "    plt.savefig(os.path.join(outdir, \"{}_AusAEM_profile.png\".format(row['Name'])),\n",
    "                dpi = 200)\n",
    "    plt.close()\n",
    "\n",
    "# Plot our original points\n"
   ],
   "metadata": {
    "collapsed": false,
    "pycharm": {
     "name": "#%%\n"
    }
   }
  },
  {
   "cell_type": "code",
   "execution_count": 123,
   "outputs": [],
   "source": [
    "def interp2section(ax, point, df):\n",
    "    # mask interpreted points in dataframe\n",
    "    line_ind = aaem.data['line_index'][point]\n",
    "    line = int(aaem.data['line'][line_ind].data)\n",
    "\n",
    "    df_line = df[df['line'] == line]\n",
    "    dist_along_line = spatial_functions.xy_2_var(aaem.section_data[line],\n",
    "                                                 df_line[['easting', 'northing']].values,\n",
    "                                                 'grid_distances', max_distance = 10000.)\n",
    "\n",
    "    # now scatter the interpreted points\n",
    "    ax.scatter(dist_along_line,\n",
    "              df_line['layer_elev'].values,\n",
    "              c = 'k', marker = '+', s = 10)"
   ],
   "metadata": {
    "collapsed": false,
    "pycharm": {
     "name": "#%%\n"
    }
   }
  },
  {
   "cell_type": "code",
   "execution_count": 117,
   "outputs": [
    {
     "data": {
      "text/plain": "Index(['fiducial', 'easting', 'northing', 'layer_elev', 'thickness',\n       'median_sig', 'max_sigma', 'min_sigma', 'line', 'distance_a',\n       'weighted_m', 'sigma_rati', 'geometry'],\n      dtype='object')"
     },
     "execution_count": 117,
     "metadata": {},
     "output_type": "execute_result"
    }
   ],
   "source": [
    "df_interp.columns"
   ],
   "metadata": {
    "collapsed": false,
    "pycharm": {
     "name": "#%%\n"
    }
   }
  },
  {
   "cell_type": "code",
   "execution_count": null,
   "outputs": [],
   "source": [],
   "metadata": {
    "collapsed": false,
    "pycharm": {
     "name": "#%%\n"
    }
   }
  }
 ],
 "metadata": {
  "kernelspec": {
   "display_name": "Python 3",
   "language": "python",
   "name": "python3"
  },
  "language_info": {
   "codemirror_mode": {
    "name": "ipython",
    "version": 2
   },
   "file_extension": ".py",
   "mimetype": "text/x-python",
   "name": "python",
   "nbconvert_exporter": "python",
   "pygments_lexer": "ipython2",
   "version": "2.7.6"
  }
 },
 "nbformat": 4,
 "nbformat_minor": 0
}