{
 "cells": [
  {
   "cell_type": "code",
   "execution_count": 1,
   "metadata": {},
   "outputs": [],
   "source": [
    "%matplotlib widget"
   ]
  },
  {
   "cell_type": "code",
   "execution_count": null,
   "metadata": {},
   "outputs": [],
   "source": [
    "import numpy as np\n",
    "import pandas as pd\n",
    "from shapely.geometry import Point, LineString, MultiPoint, Polygon\n",
    "from shapely.wkt import loads\n",
    "from scipy.spatial.ckdtree import cKDTree\n",
    "import matplotlib.pyplot as plt\n",
    "import rasterio\n",
    "import netCDF4\n",
    "import h5py\n",
    "import gc, sys, os\n",
    "import glob\n",
    "import string\n",
    "import json\n",
    "sys.path.append(\"..\\scripts\")\n",
    "import spatial_functions\n",
    "import aem_utils\n",
    "import netcdf_utils\n",
    "import plotting_functions as plots\n",
    "import ipympl"
   ]
  },
  {
   "cell_type": "code",
   "execution_count": null,
   "metadata": {},
   "outputs": [],
   "source": [
    "\n",
    "# Find the nearest neighbours within the maximum distance\n",
    "\n",
    "def xy_2_var(grid_dict, xy, var):\n",
    "    \"\"\"\n",
    "    Function for finding a variable for gridded AEM sections\n",
    "    given an input easting and northing\n",
    "    @ param: grid_dict :dictionary for gridded line data\n",
    "    @ param: xy: numpy array with easting and northing\n",
    "    @ param: var: string with variable name\n",
    "    returns\n",
    "    float: distance along line\n",
    "    \"\"\"\n",
    "    utm_coords = np.column_stack((grid_dict['easting'],\n",
    "                                  grid_dict['northing']))\n",
    "\n",
    "    d, i = spatial_functions.nearest_neighbours(xy,\n",
    "                                                utm_coords,\n",
    "                                                points_required=1,\n",
    "                                                max_distance=100.)\n",
    "    if np.isnan(d[0]):\n",
    "        return None\n",
    "\n",
    "    else:\n",
    "        near_ind = i[0]\n",
    "    \n",
    "\n",
    "\n",
    "        return grid_dict[var][near_ind]\n",
    "\n",
    "def in_bounds(coords, b):\n",
    "    \"\"\"\n",
    "    Function return true if point is within raster bounds\n",
    "    coords = 1d numpy array (x,y)\n",
    "    b = raseter dataset bounds from rasterio\n",
    "    \"\"\"\n",
    "    x,y = coords[0], coords[1]\n",
    "    \n",
    "    if np.all([x > b.left, x < b.right,\n",
    "                     y > b.bottom, y < b.top]):\n",
    "        return True\n",
    "    else:\n",
    "        return False\n",
    "\n",
    "\n",
    "        "
   ]
  },
  {
   "cell_type": "code",
   "execution_count": null,
   "metadata": {},
   "outputs": [],
   "source": [
    "# Let create our lciinversion instance\n",
    "infile = r\"C:\\Users\\PCUser\\Desktop\\AEM\\LCI\\DalyR_WB_MGA52.nc\"\n",
    "\n",
    "lci = aem_utils.AEM_inversion(name = 'Laterally Contrained Inversion (LCI)',\n",
    "                              inversion_type = 'deterministic',\n",
    "                              netcdf_dataset = netCDF4.Dataset(infile))\n",
    "# lets load layer grid rasters\n",
    "\n",
    "# directory with rasters\n",
    "inRaster = r\"C:\\Users\\PCUser\\Desktop\\NSC_data\\data\\AEM\\DR\\2017_DalyRiver_SkyTEM\\03_LCI\\03_Depth_Slices\\Grids_doi_Masked\"\n",
    "\n",
    "lci.load_lci_layer_grids(inRaster, conversion_to_SI = True, nlayers = 30)\n"
   ]
  },
  {
   "cell_type": "code",
   "execution_count": null,
   "metadata": {},
   "outputs": [],
   "source": [
    "lci.conductivity_data"
   ]
  },
  {
   "cell_type": "code",
   "execution_count": 6,
   "metadata": {},
   "outputs": [],
   "source": [
    "infile = r\"C:\\Users\\PCUser\\Desktop\\NSC_data\\data\\AEM\\DR\\garj_workshop2\\DR_rjmcmc_pmaps.nc\"\n",
    "\n",
    "rj = aem_utils.AEM_inversion(name = 'GARJMCMCTDEM',\n",
    "                              inversion_type = 'stochastic',\n",
    "                              netcdf_dataset = netCDF4.Dataset(infile))"
   ]
  },
  {
   "cell_type": "code",
   "execution_count": 7,
   "metadata": {},
   "outputs": [
    {
     "data": {
      "text/plain": [
       "'deterministic'"
      ]
     },
     "execution_count": 7,
     "metadata": {},
     "output_type": "execute_result"
    }
   ],
   "source": [
    "lci.inversion_type\n"
   ]
  },
  {
   "cell_type": "code",
   "execution_count": 20,
   "metadata": {},
   "outputs": [
    {
     "data": {
      "text/plain": [
       "<module 'plotting_functions' from '..\\\\scripts\\\\plotting_functions.py'>"
      ]
     },
     "execution_count": 20,
     "metadata": {},
     "output_type": "execute_result"
    }
   ],
   "source": [
    "import importlib\n",
    "importlib.reload(plots)\n"
   ]
  },
  {
   "cell_type": "code",
   "execution_count": 22,
   "metadata": {},
   "outputs": [
    {
     "data": {
      "application/vnd.jupyter.widget-view+json": {
       "model_id": "74c28d1fcdee4b30abb489f79c7268c7",
       "version_major": 2,
       "version_minor": 0
      },
      "text/plain": [
       "Canvas(toolbar=Toolbar(toolitems=[('Home', 'Reset original view', 'home', 'home'), ('Back', 'Back to previous …"
      ]
     },
     "metadata": {},
     "output_type": "display_data"
    }
   ],
   "source": [
    "# Lets plot the distribution of the points. Clicking on one will return the point index\n",
    "\n",
    "# This function stores the top of the conductor in the dataframe on a click\n",
    "def on_map_click(event):\n",
    "    global point_index\n",
    "    if event.xdata != None:\n",
    "        x_, y_ = event.xdata, event.ydata\n",
    "        distances, indices = spatial_functions.nearest_neighbours([x_,y_], rj.coords, max_distance = 5000.)\n",
    "        point_index = indices[0]\n",
    "        \n",
    "\n",
    "# Do some plotting\n",
    "\n",
    "fig, ax = plots.AEM_baseplot(rj, lci, layer_number = 5)\n",
    "\n",
    "cid=  fig.canvas.mpl_connect('button_press_event', on_map_click)\n",
    "\n",
    "plt.show()"
   ]
  },
  {
   "cell_type": "code",
   "execution_count": 12,
   "metadata": {},
   "outputs": [
    {
     "data": {
      "text/plain": [
       "42"
      ]
     },
     "execution_count": 12,
     "metadata": {},
     "output_type": "execute_result"
    }
   ],
   "source": [
    "point_index"
   ]
  },
  {
   "cell_type": "code",
   "execution_count": 177,
   "metadata": {},
   "outputs": [],
   "source": [
    "# Create modelled boundary object\n",
    "\n",
    "surface = aem_utils.modelled_boundary(name = 'Oolloo-Jinduckin interface - elevation')\n",
    "\n",
    "infile = r\"C:\\Temp\\pmap_interp\\rj_interp.csv\"\n",
    "\n",
    "surface.load_interpretation_points_from_file(infile)"
   ]
  },
  {
   "cell_type": "code",
   "execution_count": 178,
   "metadata": {},
   "outputs": [
    {
     "data": {
      "text/plain": [
       "dict_keys(['fiducial', 'easting', 'northing', 'layer_depth', 'layer_elevation', 'standard_deviation'])"
      ]
     },
     "execution_count": 178,
     "metadata": {},
     "output_type": "execute_result"
    }
   ],
   "source": [
    "surface.interpreted_points.keys()"
   ]
  },
  {
   "cell_type": "code",
   "execution_count": 179,
   "metadata": {},
   "outputs": [],
   "source": [
    "# Create our grid\n",
    "\n",
    "ymin, ymax, = 8420000, 8460000\n",
    "xmin, xmax = 740000, 778000\n",
    "\n",
    "surface.create_grid(xmin, xmax, ymin, ymax, cell_size = 500.)\n",
    "surface.create_interpolator(length_scale = 5000.)\n",
    "surface.fit_interpolator(variable = 'layer_elevation')\n",
    "surface.predict_on_grid(convex_hull_buffer = 1000.)\n",
    "\n",
    "elevation_grid = surface.interpreted_grid\n",
    "\n",
    "surface.create_interpolator(length_scale = 5000.)\n",
    "surface.fit_interpolator(variable = 'standard_deviation')\n",
    "surface.predict_on_grid(convex_hull_buffer = 1000.)\n",
    "\n",
    "uncertainty_grid = surface.interpreted_grid"
   ]
  },
  {
   "cell_type": "code",
   "execution_count": 181,
   "metadata": {},
   "outputs": [
    {
     "name": "stderr",
     "output_type": "stream",
     "text": [
      "<ipython-input-181-86b99946b9ec>:1: RuntimeWarning: More than 20 figures have been opened. Figures created through the pyplot interface (`matplotlib.pyplot.figure`) are retained until explicitly closed and may consume too much memory. (To control this warning, see the rcParam `figure.max_open_warning`).\n",
      "  fig, (ax1,ax2) = plt.subplots(1,2, figsize = (12,6))\n"
     ]
    },
    {
     "data": {
      "application/vnd.jupyter.widget-view+json": {
       "model_id": "36ddcff01d7f4c87aabf4b2841fbad39",
       "version_major": 2,
       "version_minor": 0
      },
      "text/plain": [
       "Canvas(toolbar=Toolbar(toolitems=[('Home', 'Reset original view', 'home', 'home'), ('Back', 'Back to previous …"
      ]
     },
     "metadata": {},
     "output_type": "display_data"
    }
   ],
   "source": [
    "\n",
    "fig, (ax1,ax2) = plt.subplots(1,2, figsize = (12,6))\n",
    "extent = (xmin, xmax, ymin, ymax)\n",
    "\n",
    "im1 = ax1.imshow(elevation_grid,extent = extent,\n",
    "                 vmin = -300, vmax = 0)\n",
    "\n",
    "cax = fig.add_axes([0.4, 0.6, 0.01, 0.25])\n",
    "\n",
    "fig.colorbar(im1, cax=cax)\n",
    "\n",
    "im2 = ax2.imshow(uncertainty_grid, extent = extent,\n",
    "                vmin = 0., vmax = 50.)\n",
    "\n",
    "cax2 = fig.add_axes([0.85, 0.6, 0.01, 0.25])\n",
    "\n",
    "fig.colorbar(im2, cax=cax2)\n",
    "\n",
    "#ax1.scatter(X[:,0], X[:,1], marker = 'o', c = y.flatten(), \n",
    "#            vmin = -300, vmax = 0, edgecolors  = 'k')\n",
    "\n",
    "#ax2.scatter(X[:,0], X[:,1], marker = 'o', c = y_std.flatten(), \n",
    "#            vmin = 0, vmax = 50, edgecolors  = 'k')\n",
    "\n",
    "\n",
    "plt.show()\n"
   ]
  },
  {
   "cell_type": "code",
   "execution_count": 103,
   "metadata": {},
   "outputs": [
    {
     "data": {
      "image/svg+xml": [
       "<svg xmlns=\"http://www.w3.org/2000/svg\" xmlns:xlink=\"http://www.w3.org/1999/xlink\" width=\"300\" height=\"300\" viewBox=\"739006.8600913798 8420952.004551101 36061.23589969694 40121.98445649259\" preserveAspectRatio=\"xMinYMin meet\"><g transform=\"matrix(1,0,0,-1,0,16882025.993558697)\"><path fill-rule=\"evenodd\" fill=\"#66cc99\" stroke=\"#555555\" stroke-width=\"267.47989637661726\" opacity=\"0.6\" d=\"M 770858.8574896572,8422814.154248703 L 770793.1129847424,8422739.69771085 L 770720.3062845787,8422672.13070435 L 770641.1557085123,8422612.119853131 L 770556.4421653046,8422560.257231206 L 770467.0014485957,8422517.054521216 L 770373.715990868,8422482.93796611 L 770277.5061572645,8422458.244163776 L 770179.3211651595,8422443.21674613 L 770080.1297190702,8422438.003975416 L 769980.9104533057,8422442.657281436 L 759397.6004533055,8423467.657281436 L 759298.729755052,8423482.25052565 L 759201.8094897682,8423506.639866091 L 759107.8077336757,8423540.581692815 L 759017.6634118231,8423583.736982033 L 758932.2769197493,8423635.674682418 L 758852.501129992,8423695.876020595 L 758779.1328732743,8423763.73968286 L 758712.904979459,8423838.587821318 L 749047.284979459,8435929.587821318 L 748993.4319372337,8436003.671250539 L 748946.5828607089,8436082.37111503 L 745727.3228607089,8442101.37111503 L 745695.5530490889,8442166.311635029 L 743016.993049089,8448183.311635029 L 742970.577915659,8448309.938582193 L 742095.077915659,8451310.938582193 L 742087.4213224339,8451338.660170252 L 740524.0513224337,8457333.660170252 L 740503.5157344368,8457432.66500439 L 740493.0829116198,8457533.237484548 L 740492.8595156944,8457634.349391123 L 740502.8478305865,8457734.966989597 L 740522.945739085,8457834.061599093 L 740552.947766855,8457930.620109266 L 740592.5471831384,8458023.655338008 L 740641.339136668,8458112.216124069 L 741261.3991366681,8459114.216124069 L 741318.9173728764,8459197.439435357 L 741384.5498284743,8459274.425458832 L 741457.6247902578,8459344.386283575 L 741537.3943749393,8459406.605897829 L 741623.0421833338,8459460.447517006 L 741713.6916557694,8459505.360100826 L 741808.4150432082,8459540.883992933 L 741906.2429022639,8459566.655625222 L 742006.1740169375,8459582.411238775 L 742107.1856455298,8459587.98958328 L 742208.2439878575,8459583.333567357 L 742308.3147656472,8459568.490842847 L 747326.3747656472,8458562.490842847 L 747421.3109996543,8458538.570523903 L 747513.4531761206,8458505.48140935 L 747601.9181058174,8458463.540660674 L 747685.8578461848,8458413.150282893 L 747764.4678289196,8458354.793271316 L 747836.9945718204,8458289.028981993 L 747902.7429009655,8458216.487770256 L 773355.0529009654,8427210.487770256 L 773412.9875736125,8427132.47019248 L 773463.0762235638,8427049.19777278 L 773504.8458552462,8426961.456866667 L 773537.90203098,8426870.076026319 L 773561.9325957197,8426775.918176435 L 773576.7106247878,8426679.872465476 L 773582.0965667622,8426582.845869299 L 773578.0395612839,8426485.754626423 L 773564.5779193403,8426389.515585838 L 773541.8387614879,8426295.037549041 L 773510.0368174308,8426203.21268808 L 773469.4723982932,8426114.908120606 L 773420.5285607297,8426030.957721552 L 773363.6674896572,8425952.154248703 L 770858.8574896572,8422814.154248703 z\" /></g></svg>"
      ],
      "text/plain": [
       "<shapely.geometry.polygon.Polygon at 0x26cf6ac3df0>"
      ]
     },
     "execution_count": 103,
     "metadata": {},
     "output_type": "execute_result"
    }
   ],
   "source": [
    "poly = surface.get_convex_hull()\n",
    "poly"
   ]
  },
  {
   "cell_type": "code",
   "execution_count": 110,
   "metadata": {},
   "outputs": [
    {
     "data": {
      "text/plain": [
       "array([[ 740000., 8460000.],\n",
       "       [ 740000., 8459500.],\n",
       "       [ 740000., 8459000.],\n",
       "       ...,\n",
       "       [ 777500., 8421500.],\n",
       "       [ 777500., 8421000.],\n",
       "       [ 777500., 8420500.]])"
      ]
     },
     "execution_count": 110,
     "metadata": {},
     "output_type": "execute_result"
    }
   ],
   "source": [
    "surface.grid_coords"
   ]
  },
  {
   "cell_type": "code",
   "execution_count": 14,
   "metadata": {},
   "outputs": [],
   "source": [
    "    \n",
    "def DR_plot(D, outfile = None):\n",
    "    fig = plt.figure(figsize = (12,10))\n",
    "\n",
    "    # These are for interactive widget mode\n",
    "    fig.canvas.layout.width = '6in'\n",
    "    fig.canvas.layout.height= '5in'\n",
    "\n",
    "    ax1 = fig.add_axes([0.05, 0.35, 0.35, 0.62])\n",
    "    ax2 = fig.add_axes([0.45, 0.35, 0.2, 0.62])\n",
    "    ax3 = fig.add_axes([0.70, 0.52, 0.2, 0.2])\n",
    "    ax4 = fig.add_axes([0.72, 0.32, 0.16, 0.16])\n",
    "    ax5 = fig.add_axes([0.1, 0.18, 0.76, 0.05])\n",
    "    ax6 = fig.add_axes([0.1, 0.05, 0.76, 0.13])\n",
    "    ax7 = fig.add_axes([0.70, 0.78, 0.2, 0.2])\n",
    "    cbar_ax1 = fig.add_axes([0.05, 0.29, 0.35, 0.01])\n",
    "    cbar_ax2 = fig.add_axes([0.88, 0.05, 0.01, 0.2])\n",
    "    cbar_ax3 = fig.add_axes([0.9, 0.52, 0.01, 0.2])\n",
    "    \n",
    "    panel_kwargs = [{'title': '',\n",
    "                      'color': 'black',\n",
    "                      'ylabel': 'data \\n residual',\n",
    "                      'legend': False},\n",
    "                     {'title': 'LCI conductivity',\n",
    "                      'max_depth': 500.,\n",
    "                      'shade_doi': True,\n",
    "                      'colourbar': True,\n",
    "                      'colourbar_label': 'Conductivity (S/m)',\n",
    "                      'log_plot': True,\n",
    "                      'vmin': 0.001,\n",
    "                      'vmax': 2.,\n",
    "                      'cmap': 'jet',\n",
    "                      'ylabel': 'elevation \\n (mAHD)',\n",
    "                      'vertical_exaggeration': 1.0}]\n",
    "\n",
    "\n",
    "    # Plot probability map\n",
    "    \n",
    "    im = ax1.imshow(D['conductivity_pdf'], extent = D['conductivity_extent'],\n",
    "                    aspect = 'auto', cmap = 'rainbow')\n",
    "    \n",
    "    #  PLot the median, and percentile plots\n",
    "    ax1.plot(np.log10(D['cond_p10']), D['depth_cells'], c = 'k',linestyle='dashed', label = 'p10')\n",
    "    ax1.plot(np.log10(D['cond_p90']), D['depth_cells'], c = 'k',linestyle='dashed', label = 'p90')\n",
    "    ax1.plot(np.log10(D['cond_p50']), D['depth_cells'], c = 'k',label = 'p50')\n",
    "    ax1.plot(np.log10(D['cond_mean']), D['depth_cells'], c = 'grey',label = 'mean')\n",
    "    \n",
    "    ax1.set_xticklabels([round(10 ** float(x), 4) for x in ax1.get_xticks()])\n",
    "\n",
    "    # for lci layered model we do some processing\n",
    "    lci_expanded = np.zeros(shape=2 * len(D['lci_cond']) + 1,\n",
    "                                 dtype=np.float)\n",
    "\n",
    "    lci_expanded[1:] = np.repeat(D['lci_cond'], 2)\n",
    "\n",
    "    depth_expanded = (np.max(D['lci_depth_top']) + 10) * np.ones(shape=len(lci_expanded),\n",
    "                                                            dtype=np.float)\n",
    "\n",
    "    depth_expanded[:-1] = np.repeat(D['lci_depth_top'], 2)\n",
    "\n",
    "    ax1.plot(np.log10(lci_expanded), depth_expanded, c = 'pink',\n",
    "             linestyle = 'dashed', label = 'lci')\n",
    "    ax1.plot(ax1.get_xlim(), [D['lci_doi'], D['lci_doi']], c = 'yellow',\n",
    "             label = 'LCI doi')\n",
    "    ax1.set_title('rj-MCMC probability map')\n",
    "    ax1.set_ylabel('depth (mBGL)')\n",
    "    ax1.set_xlabel('Conductivity (S/m)')\n",
    "    ax1.grid(which = 'both')\n",
    "    ax1.set_xlim(D['conductivity_extent'][0], D['conductivity_extent'][1] )\n",
    "    \n",
    "    ax1.set_ylim(D['conductivity_extent'][2], D['conductivity_extent'][3])#100.,0)#\n",
    "\n",
    "        \n",
    "    ax1.legend(loc = 3)\n",
    "    ax2.plot(D['change_point_pdf'], D['depth_cells'], label = 'P(change point)')\n",
    "    ax2.set_ylim(ax2.get_ylim()[::-1])\n",
    "    ax2.set_yticks(np.arange(0, 500, 20.))\n",
    "    ax2.set_title('change point probability')\n",
    "    ax2.set_ylim(D['conductivity_extent'][2], D['conductivity_extent'][3])#(100.,0)\n",
    "\n",
    "    ax2.legend()\n",
    "    ax2.grid(which = 'both')\n",
    "    \n",
    "\n",
    "    sample = D['sample_no'][:]\n",
    "    \n",
    "    # Add the misfit\n",
    "    for i in range(D['misfit'].shape[0]):\n",
    "       \n",
    "        misfits = D['misfit'][i]\n",
    "        ax4.plot(sample, misfits/D['ndata'])\n",
    "\n",
    "    ax4.plot([1, D['nsamples']], [1,1], 'k')\n",
    "    ax4.plot([D['burnin'], D['burnin']],[0.1,1e4], 'k')\n",
    "    ax4.set_xlim([1, D['nsamples']])\n",
    "    ax4.set_ylim(0.1, 1e4)\n",
    "\n",
    "    ax4.set_xscale('log')\n",
    "    ax4.set_yscale('log')\n",
    "\n",
    "    ax4.set_xlabel(\"sample #\")\n",
    "    ax4.set_ylabel(\"Normalised misfit\")\n",
    "    \n",
    "    im3 = ax3.imshow(elevation_grid,extent = extent, vmin = -300, vmax = 0)\n",
    "    ax3.scatter(df['easting'].values, df['northing'].values, marker = 'o',\n",
    "                c = df['layer_elevation'].values, \n",
    "                vmin = -300, vmax = 0, edgecolors  = 'k')\n",
    "    ax3.plot(D['easting'],D['northing'],  'x', c = 'red')\n",
    "\n",
    "    # conductivity plot\n",
    "    \n",
    "    ax7.imshow(np.log10(cond[9]), extent = [cond_dataset.bounds[0],\n",
    "                                  cond_dataset.bounds[2],\n",
    "                                  cond_dataset.bounds[1], \n",
    "                                  cond_dataset.bounds[3]],\n",
    "              cmap = 'jet',\n",
    "              vmin = np.log10(panel_kwargs[1]['vmin']*1000.),\n",
    "              vmax = np.log10(panel_kwargs[1]['vmax']*1000.))\n",
    "    \n",
    "    ax7.set_xlim(D['easting'] - 10000., D['easting'] + 10000.)\n",
    "    ax7.set_ylim(D['northing'] - 10000., D['northing'] + 10000.)\n",
    "    ax7.plot(D['easting'],D['northing'],  'x', c = 'k')\n",
    "    \n",
    "    p1 = [gridded_vars[line]['easting'][0], gridded_vars[line]['easting'][-1]]\n",
    "    p2 = [gridded_vars[line]['northing'][0], gridded_vars[line]['northing'][-1]]\n",
    "    ax7.plot(p1, p2, 'k', linewidth = 0.5)\n",
    "    ax7.set_title('LCI depth slice 61.8-71.6 mBGL', fontsize=10)\n",
    "    ax7.tick_params(axis='both', which='major', labelsize=8)\n",
    "    ax7.tick_params(axis='both', which='minor', labelsize=8)\n",
    "    cb1 = fig.colorbar(im, cax=cbar_ax1, orientation='horizontal')\n",
    "    cb1.set_label('probabilitiy', fontsize=10)\n",
    "\n",
    "    res1 = plot_utils.plot_single_line(ax5, gridded_vars[line],\n",
    "                                       'data_residual', panel_kwargs[0])\n",
    "\n",
    "    ax5.set_title('LCI conductivity section - ' + str(line))\n",
    "\n",
    "    im2 = plot_utils.plot_grid(ax6, gridded_vars[line], 'conductivity',\n",
    "                               panel_kwargs[1])\n",
    "\n",
    "    ax6.plot([dist, dist], [-500, 500], 'pink')\n",
    "    ax6.set_xlabel(\"Distance along line (m)\")\n",
    "    \n",
    "        \n",
    "    cb2 = fig.colorbar(im2, cax=cbar_ax2, orientation='vertical')\n",
    "    \n",
    "    cb2.ax.set_yticklabels([round(10 ** x, 4) for x in cb2.get_ticks()])\n",
    "    cb2.set_label('conductivity (S/m)', fontsize=10)\n",
    "    \n",
    "    cb3 =  fig.colorbar(im3, cax=cbar_ax3, orientation='vertical')\n",
    "    cb3.set_label('surface elevation mAHD')\n",
    "    \n",
    "    #ax5.set_xlim(dist - 5000.,\n",
    "    #             dist + 5000.)\n",
    "    ax6.set_xlim(dist - 5000., \n",
    "                 dist + 5000.)\n",
    "\n",
    "    ax_array = np.array([ax1, ax2, ax3, ax4, ax5, ax6, ax7])\n",
    "    \n",
    "    return fig, ax_array   "
   ]
  },
  {
   "cell_type": "code",
   "execution_count": 25,
   "metadata": {},
   "outputs": [],
   "source": [
    "\n",
    "\n",
    "# Create an instance of plots for gridding the data\n",
    "\n",
    "sections = plotting_functions.ConductivitySections(lci_dat)\n",
    "\n",
    "\n",
    "# Define some key variables which we want to inteprolate\n",
    "\n",
    "cond_vars = ['conductivity', 'data_residual', 'depth_of_investigation']\n",
    "\n",
    "sections.conductivity_variables = cond_vars\n",
    "\n",
    "\n",
    "# Define the resolution of th sections\n",
    "xres, yres = 10., 2.\n",
    "\n",
    "# We will use the lines from the rj\n",
    "\n",
    "lines = rj_dat['line'][:]\n",
    "\n",
    "# Now grid the lines and save in memory\n",
    "\n",
    "hdf5_dir = r\"C:\\Users\\PCUser\\Desktop\\NSC_data\\data\\AEM\\DR\\lci\\hdf5\"\n",
    "\n",
    "if not os.path.exists(hdf5_dir):\n",
    "    os.mkdir(hdf5_dir)\n",
    "\n",
    "gridded_vars ={}\n",
    "\n",
    "for line in lines:\n",
    "    \n",
    "    infile = os.path.join(hdf5_dir, str(line) + '.hdf5')\n",
    "    \n",
    "    if os.path.exists(infile):\n",
    "        f = h5py.File(infile, 'r')\n",
    "        gridded_vars[line] = plotting_functions.extract_hdf5_grids(f, cond_vars)\n",
    "    else:\n",
    "        gridded_vars[line] = sections.grid_variables(xres = xres, yres =yres, lines=[line],\n",
    "                                    resampling_method = 'cubic', save_hdf5 = True,\n",
    "                                    return_dict = True, hdf5_dir = hdf5_dir)\n",
    "    f = None\n",
    "    gc.collect()"
   ]
  },
  {
   "cell_type": "code",
   "execution_count": 27,
   "metadata": {},
   "outputs": [
    {
     "data": {
      "text/plain": [
       "masked_array(data=[101501., 102701., 103101., ..., 109202., 109504.,\n",
       "                   109303.],\n",
       "             mask=False,\n",
       "       fill_value=1e+20)"
      ]
     },
     "execution_count": 27,
     "metadata": {},
     "output_type": "execute_result"
    }
   ],
   "source": [
    "lines"
   ]
  },
  {
   "cell_type": "code",
   "execution_count": 28,
   "metadata": {},
   "outputs": [],
   "source": [
    "# Now we bring in the Oolloo Jinduckin contact to plot\n",
    "\n",
    "inRaster = r\"C:\\Users\\PCUser\\Desktop\\NSC_data\\data\\raster\\Daly_Aquifers\\LeapFrog_export\\OllooJind_contact.grd\"\n",
    "\n",
    "contact_dataset = rasterio.open(inRaster)\n",
    "\n",
    "contact_elev = contact_dataset.read(1)\n",
    "\n",
    "contact_elev[contact_elev == contact_dataset.get_nodatavals()] = np.nan\n"
   ]
  },
  {
   "cell_type": "code",
   "execution_count": 29,
   "metadata": {},
   "outputs": [],
   "source": [
    "interpretations = {}"
   ]
  },
  {
   "cell_type": "code",
   "execution_count": 30,
   "metadata": {},
   "outputs": [],
   "source": [
    "# This function stores the top of the conductor in the dataframe on a click\n",
    "outdir = r\"C:\\temp\\pmap_interp\"\n",
    "\n",
    "if not os.path.exists(outdir):\n",
    "    os.mkdir(outdir)\n",
    "\n",
    "outfile = os.path.join(outdir, \"rj_interp.csv\")    \n",
    "\n",
    "# This function finds the width of the porbability interval that is >0.5\n",
    "# times the local max probability\n",
    "def full_width_half_max(max_idx, fmax):\n",
    "    \n",
    "    idx_upper = None\n",
    "    idx_lower = None\n",
    "    \n",
    "    # positive direction\n",
    "    for idx in np.arange(max_idx, D['depth_cells'].shape[0]):\n",
    "        if D['change_point_pdf'][idx] <= fmax/2.:\n",
    "            idx_upper = idx\n",
    "            break\n",
    "    # negative direction\n",
    "    for idx in np.arange(max_idx, -1, -1):\n",
    "        if D['change_point_pdf'][idx] <= fmax/2.:\n",
    "            idx_lower = idx\n",
    "            break\n",
    "    # Now calculate the width\n",
    "    if np.logical_and(idx_upper is not None, idx_lower is not None):\n",
    "        return D['depth_cells'][idx_upper] - D['depth_cells'][idx_lower]\n",
    "    else:\n",
    "        return None\n",
    "        \n",
    "    \n",
    "\n",
    "# Function for snapping to a layer point probability maximum\n",
    "# from a click\n",
    "def click2estimate(yclick):\n",
    "    snap_window = 16\n",
    "    ymin = yclick - snap_window/2\n",
    "    ymax = yclick + snap_window/2\n",
    "    \n",
    "    # Get the change point probability array for the snap window interval\n",
    "    \n",
    "    idx = np.where(np.logical_and(D['depth_cells']>ymin, D['depth_cells']<ymax))\n",
    "    \n",
    "    # Now find the maximum cpp from this range\n",
    "    idx_max = np.argmax(D['change_point_pdf'][idx]) + np.min(idx)\n",
    "    fmax = D['change_point_pdf'][idx_max]\n",
    "    interpreted_depth = D['depth_cells'][idx_max]\n",
    "    \n",
    "    # from https://en.wikipedia.org/wiki/Full_width_at_half_maximum\n",
    "    fwhm = full_width_half_max(idx_max, fmax)\n",
    "    \n",
    "    if fwhm is not None:\n",
    "        stdev = fwhm/(2*np.sqrt(2*np.log(2)))\n",
    "    else:\n",
    "        stdev = 50.\n",
    "    return interpreted_depth, stdev\n",
    "\n",
    "    \n",
    "\n",
    "\n",
    "def pmap_click(event):\n",
    "    if event.xdata != None and event.ydata != None:\n",
    "        #We will use fiducial as a key\n",
    "        fid = D['fiducial']\n",
    "        depth, stdev = click2estimate(event.ydata)\n",
    "        interpretations[fid] = {'easting': D['easting'],\n",
    "                                'northing':  D['northing'],\n",
    "                                'layer_depth': np.round(depth,0),\n",
    "                                'layer_elevation': np.round(D['elevation'] - event.ydata,2),\n",
    "                                'standard_deviation': np.round(stdev,0)\n",
    "                               }\n",
    "        # Save the interpretation\n",
    "        pd.DataFrame(interpretations).transpose().to_csv(outfile)\n"
   ]
  },
  {
   "cell_type": "code",
   "execution_count": 31,
   "metadata": {},
   "outputs": [],
   "source": [
    "point_index = 233"
   ]
  },
  {
   "cell_type": "code",
   "execution_count": 43,
   "metadata": {},
   "outputs": [
    {
     "data": {
      "text/plain": [
       "<module 'netcdf_utils' from '..\\\\scripts\\\\netcdf_utils.py'>"
      ]
     },
     "execution_count": 43,
     "metadata": {},
     "output_type": "execute_result"
    }
   ],
   "source": [
    "import importlib\n",
    "importlib.reload(netcdf_utils)"
   ]
  },
  {
   "cell_type": "code",
   "execution_count": 44,
   "metadata": {},
   "outputs": [
    {
     "data": {
      "application/vnd.jupyter.widget-view+json": {
       "model_id": "edbf5f9cb8e44f8a840d51e9e0e743d6",
       "version_major": 2,
       "version_minor": 0
      },
      "text/plain": [
       "Canvas(toolbar=Toolbar(toolitems=[('Home', 'Reset original view', 'home', 'home'), ('Back', 'Back to previous …"
      ]
     },
     "metadata": {},
     "output_type": "display_data"
    },
    {
     "name": "stderr",
     "output_type": "stream",
     "text": [
      "<ipython-input-14-039d0b86f204>:60: RuntimeWarning: divide by zero encountered in log10\n",
      "  ax1.plot(np.log10(lci_expanded), depth_expanded, c = 'pink',\n"
     ]
    },
    {
     "ename": "NameError",
     "evalue": "name 'plot_utils' is not defined",
     "output_type": "error",
     "traceback": [
      "\u001b[1;31m---------------------------------------------------------------------------\u001b[0m",
      "\u001b[1;31mNameError\u001b[0m                                 Traceback (most recent call last)",
      "\u001b[1;32m<ipython-input-44-d054da220170>\u001b[0m in \u001b[0;36m<module>\u001b[1;34m\u001b[0m\n\u001b[0;32m     14\u001b[0m \u001b[0mpoint_ind_lci\u001b[0m\u001b[1;33m=\u001b[0m \u001b[0mdist\u001b[0m\u001b[1;33m\u001b[0m\u001b[1;33m\u001b[0m\u001b[0m\n\u001b[0;32m     15\u001b[0m \u001b[1;33m\u001b[0m\u001b[0m\n\u001b[1;32m---> 16\u001b[1;33m \u001b[0mfig\u001b[0m\u001b[1;33m,\u001b[0m \u001b[0max_array\u001b[0m \u001b[1;33m=\u001b[0m \u001b[0mDR_plot\u001b[0m\u001b[1;33m(\u001b[0m\u001b[0mD\u001b[0m\u001b[1;33m)\u001b[0m\u001b[1;33m\u001b[0m\u001b[1;33m\u001b[0m\u001b[0m\n\u001b[0m\u001b[0;32m     17\u001b[0m \u001b[1;33m\u001b[0m\u001b[0m\n\u001b[0;32m     18\u001b[0m \u001b[0mpoint_index\u001b[0m \u001b[1;33m+=\u001b[0m \u001b[1;36m5\u001b[0m\u001b[1;33m\u001b[0m\u001b[1;33m\u001b[0m\u001b[0m\n",
      "\u001b[1;32m<ipython-input-14-039d0b86f204>\u001b[0m in \u001b[0;36mDR_plot\u001b[1;34m(D, outfile)\u001b[0m\n\u001b[0;32m    130\u001b[0m     \u001b[0mcb1\u001b[0m\u001b[1;33m.\u001b[0m\u001b[0mset_label\u001b[0m\u001b[1;33m(\u001b[0m\u001b[1;34m'probabilitiy'\u001b[0m\u001b[1;33m,\u001b[0m \u001b[0mfontsize\u001b[0m\u001b[1;33m=\u001b[0m\u001b[1;36m10\u001b[0m\u001b[1;33m)\u001b[0m\u001b[1;33m\u001b[0m\u001b[1;33m\u001b[0m\u001b[0m\n\u001b[0;32m    131\u001b[0m \u001b[1;33m\u001b[0m\u001b[0m\n\u001b[1;32m--> 132\u001b[1;33m     res1 = plot_utils.plot_single_line(ax5, gridded_vars[line],\n\u001b[0m\u001b[0;32m    133\u001b[0m                                        'data_residual', panel_kwargs[0])\n\u001b[0;32m    134\u001b[0m \u001b[1;33m\u001b[0m\u001b[0m\n",
      "\u001b[1;31mNameError\u001b[0m: name 'plot_utils' is not defined"
     ]
    }
   ],
   "source": [
    "plt.close('all')\n",
    "\n",
    "\n",
    "D = netcdf_utils.extract_rj_sounding(rj_dat, lci_dat, point_index)\n",
    "\n",
    "line = np.int(rj_dat['line'][point_index].data)\n",
    "\n",
    "# Find distance along the lci section\n",
    "dist = xy_2_var(gridded_vars[line],\n",
    "                 np.array([[D['easting'], D['northing']]]),\n",
    "                 'grid_distances')\n",
    "\n",
    "\n",
    "point_ind_lci= dist\n",
    "\n",
    "fig, ax_array = DR_plot(D)\n",
    "\n",
    "point_index += 5 \n",
    "\n",
    "plt.show()\n",
    "\n",
    "cid=  fig.canvas.mpl_connect('button_press_event', pmap_click)"
   ]
  },
  {
   "cell_type": "code",
   "execution_count": null,
   "metadata": {},
   "outputs": [],
   "source": [
    "#### TODO, better extract data implementation\n",
    "#### Add plotting functions\n",
    "#### Interpretations as objects"
   ]
  }
 ],
 "metadata": {
  "kernelspec": {
   "display_name": "garjmcmctdem",
   "language": "python",
   "name": "garjmcmctdem"
  },
  "language_info": {
   "codemirror_mode": {
    "name": "ipython",
    "version": 3
   },
   "file_extension": ".py",
   "mimetype": "text/x-python",
   "name": "python",
   "nbconvert_exporter": "python",
   "pygments_lexer": "ipython3",
   "version": "3.8.3"
  }
 },
 "nbformat": 4,
 "nbformat_minor": 4
}
