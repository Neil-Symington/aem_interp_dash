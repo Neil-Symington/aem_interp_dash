{
 "cells": [
  {
   "cell_type": "markdown",
   "metadata": {},
   "source": [
    "This code opens pmaps from files and uses ipywidgets to do some basic interpretation on the Daly River data set.\n",
    "\n",
    "TODO in 2020 add interpretation tool\n",
    "\n",
    "Neil Symington\n",
    "neil.symington@ga.gov.au"
   ]
  },
  {
   "cell_type": "code",
   "execution_count": 2,
   "metadata": {},
   "outputs": [
    {
     "name": "stderr",
     "output_type": "stream",
     "text": [
      "UsageError: unrecognized arguments: widget\n"
     ]
    }
   ],
   "source": [
    "#%matplotlib inline#%matplotlib widget"
   ]
  },
  {
   "cell_type": "code",
   "execution_count": 2,
   "metadata": {},
   "outputs": [],
   "source": [
    "import geopandas as gpd\n",
    "import numpy as np\n",
    "import pandas as pd\n",
    "import aseg_gdf2\n",
    "from shapely.geometry import Point\n",
    "from shapely.wkt import loads\n",
    "from scipy.io import loadmat\n",
    "from scipy import spatial\n",
    "import matplotlib.pyplot as plt\n",
    "import rasterio\n",
    "import netCDF4\n",
    "import os"
   ]
  },
  {
   "cell_type": "code",
   "execution_count": 3,
   "metadata": {},
   "outputs": [],
   "source": [
    "# Function for finding the nearest point from geopandas frame\n",
    "def find_nearest_point_ind(gdf, pt):\n",
    "    \n",
    "    dist = gdf.distance(pt)\n",
    "    # retrun the nearest index and the distance\n",
    "    return dist.idxmin(), dist.min()\n",
    "\n",
    "def extract_pmap_info(D, near_fid):\n",
    "    \"\"\"\n",
    "    @param: D: python dictionary from loadmat function in scipy\n",
    "    \n",
    "    returns\n",
    "    a more usebal dictionary\n",
    "    \"\"\"\n",
    "\n",
    "    freq = D['M']['f'][0,0]\n",
    "\n",
    "\n",
    "    pdf = freq / freq.sum(axis =1)[0]\n",
    "\n",
    "    pdf[pdf == 0] = np.nan\n",
    "\n",
    "    # Get the changepoint histogram\n",
    "\n",
    "    cp = D['M']['cp'][0,0].flatten()\n",
    "\n",
    "    cp_pdf = D['M']['cp'][0,0] / freq.sum(axis =1)[0]\n",
    "\n",
    "    # Get the extent\n",
    "\n",
    "    extent = [D['M']['vmin'][0,0][0,0], D['M']['vmax'][0,0][0,0], D['M']['pmax'][0,0][0,0], D['M']['pmin'][0,0][0,0]]\n",
    "\n",
    "    # Get the information from the datafile\n",
    "\n",
    "    p10 = near_fid[[x for x in gdf_AEM.columns if x.startswith('conductivity_p10')]].astype(np.float).values\n",
    "    p50 = near_fid[[x for x in gdf_AEM.columns if x.startswith('conductivity_p50')]].astype(np.float).values\n",
    "    p90 = near_fid[[x for x in gdf_AEM.columns if x.startswith('conductivity_p90')]].astype(np.float).values\n",
    "    mean = near_fid[[x for x in gdf_AEM.columns if x.startswith('conductivity_mean')]].astype(np.float).values\n",
    "    depth_cells = near_fid[[x for x in gdf_AEM.columns if x.startswith('depth')]].astype(np.float).values\n",
    "\n",
    "    cond_cells = np.linspace(D['M']['vmin'][0,0][0,0], D['M']['vmax'][0,0][0,0], D['M']['nvcells'][0,0][0,0])\n",
    "    \n",
    "    \n",
    "    laybins = D['M']['lhist'][0,0][0,0][1].flatten()\n",
    "    lay_pob = D['M']['lhist'][0,0][0,0][2].flatten() / freq.sum(axis =1)[0]\n",
    "\n",
    "    nsample = D['M']['nsample'][0,0][0,0]\n",
    "\n",
    "    ndata = int(D['M']['ndata'][0,0][0,0])\n",
    "    nsamples = np.int(D['M']['nsample'][0,0][0,0])\n",
    "    nchains = np.int(D['M']['nchain'][0,0][0,0])\n",
    "    burnin = int(D['M']['nburnin'][0,0][0,0])\n",
    "    \n",
    "    misfit = {}\n",
    "    sample_no = {}\n",
    "    \n",
    "    for i in range(nchains):\n",
    "        misfit[i] = D['M']['conv'][0,0]['misfit'][0,i].flatten()\n",
    "        sample_no[i] = D['M']['conv'][0,0]['sample'][0,i].flatten()\n",
    "        \n",
    "    \n",
    "    return {'conductivity_pdf': pdf, \"change_point_pdf\": cp_pdf, \"conductivity_extent\": extent,\n",
    "           'cond_p10': p10, 'cond_p50': p50, 'cond_p90': p90, 'cond_mean': mean, 'depth_cells': depth_cells,\n",
    "           'nlayer_bins': laybins, 'nlayer_prob': lay_pob, 'nsamples': nsample, 'ndata': ndata,\n",
    "           \"nchains\": nchains, 'burnin': burnin, 'misfit': misfit, 'sample_no': sample_no, 'cond_cells': cond_cells}\n",
    "\n",
    "def extract_data(near_fid):\n",
    "    \n",
    "\n",
    "    infile = near_fid['matfile']\n",
    "\n",
    "    D = extract_pmap_info(loadmat(infile), near_fid)\n",
    "    \n",
    "    D['easting'] = near_fid['easting ']\n",
    "    D['northing'] =  near_fid['northing ']\n",
    "    D['fid'] = near_fid['fiducial ']\n",
    "    \n",
    "    # Get point elevation from grid\n",
    "    point_elev = next(dataset.sample([[D['easting'],D['northing']]]))[0]\n",
    "\n",
    "    # Spatial query to find nearest fiducial\n",
    "\n",
    "    lci_coords = np.column_stack((lci_dat['easting'][:],\n",
    "                                 lci_dat['northing'][:]))\n",
    "\n",
    "    tree = spatial.KDTree(lci_coords.data)\n",
    "\n",
    "    dist, ind = tree.query([D['easting'], D['northing']])\n",
    "\n",
    "    D['elevation'] = lci_dat['elevation'][ind]\n",
    "\n",
    "    D['lci_cond'] = lci_dat['conductivity'][ind]\n",
    "    D['lci_depth_top'] = lci_dat['layer_top_depth'][ind]\n",
    "\n",
    "    D['lci_doi'] = lci_dat['depth_of_investigation'][ind]\n",
    "\n",
    "    D['line'] = near_fid['line ']\n",
    "\n",
    "    D['Oooloo_contact_depth'] = D['elevation'] - point_elev\n",
    "    \n",
    "    if D['Oooloo_contact_depth'] < 0:\n",
    "        D['Oooloo_contact_depth'] = 0\n",
    "    \n",
    "    return D\n",
    "\n",
    "def Daly_plot(D, outfile = None):\n",
    "    fig = plt.figure(figsize = (12,10))\n",
    "\n",
    "    #fig.canvas.layout.width = '12in'\n",
    "    #fig.canvas.layout.height= '8in'\n",
    "\n",
    "    ax1 = fig.add_axes([0.05, 0.2, 0.35, 0.7])\n",
    "    ax2 = fig.add_axes([0.45, 0.2, 0.2, 0.7])\n",
    "    ax3 = fig.add_axes([0.72, 0.2, 0.2, 0.35])\n",
    "    ax4 = fig.add_axes([0.72, 0.6, 0.2, 0.3])\n",
    "    cbar_ax = fig.add_axes([0.05, 0.1, 0.35, 0.02])\n",
    "\n",
    "\n",
    "    # Plot probability map\n",
    "    im = ax1.imshow(D['conductivity_pdf'], extent = D['conductivity_extent'],\n",
    "                    aspect = 'auto', cmap = 'rainbow')\n",
    "    #  PLot the median, and percentile plots\n",
    "    ax1.plot(np.log10(D['cond_p10']), D['depth_cells'], c = 'k',linestyle='dashed', label = 'p10')\n",
    "    ax1.plot(np.log10(D['cond_p90']), D['depth_cells'], c = 'k',linestyle='dashed', label = 'p90')\n",
    "    ax1.plot(np.log10(D['cond_p50']), D['depth_cells'], c = 'k',label = 'p50')\n",
    "    ax1.plot(np.log10(D['cond_mean']), D['depth_cells'], c = 'grey',label = 'mean')\n",
    "\n",
    "    # for lci layered model we do some processing\n",
    "    lci_expanded = np.zeros(shape=2 * len(D['lci_cond']) + 1,\n",
    "                                 dtype=np.float)\n",
    "\n",
    "    lci_expanded[1:] = np.repeat(D['lci_cond'], 2)\n",
    "\n",
    "    depth_expanded = (np.max(D['lci_depth_top']) + 10) * np.ones(shape=len(lci_expanded),\n",
    "                                                            dtype=np.float)\n",
    "\n",
    "    depth_expanded[:-1] = np.repeat(D['lci_depth_top'], 2)\n",
    "\n",
    "    ax1.plot(np.log10(lci_expanded), depth_expanded, c = 'pink',\n",
    "             linestyle = 'dashed', label = 'lci')\n",
    "    ax1.plot(ax1.get_xlim(), [D['lci_doi'], D['lci_doi']], c = 'pink',\n",
    "             label = 'LCI doi')\n",
    "    ax1.plot(ax1.get_xlim(), [D['Oooloo_contact_depth'], D['Oooloo_contact_depth']], c = 'red',\n",
    "             label = 'Mapped contact', linestyle = 'dashed')\n",
    "    ax1.set_title('probability map')\n",
    "    ax1.set_ylabel('depth (mBGL)')\n",
    "    ax1.set_xlabel('log10 conductivity (S/m)')\n",
    "    ax1.grid(which = 'both')\n",
    "    ax1.set_xlim(D['conductivity_extent'][0], D['conductivity_extent'][1])\n",
    "    ax1.set_ylim(D['conductivity_extent'][2], D['conductivity_extent'][3])\n",
    "    ax1.legend()\n",
    "\n",
    "    ax2.plot(D['change_point_pdf'], D['depth_cells'], label = 'P(change point)')\n",
    "    ax2.set_ylim(ax2.get_ylim()[::-1])\n",
    "    ax2.set_yticks(np.arange(0, 500, 20.))\n",
    "    ax2.set_title('change point probability')\n",
    "    ax2.set_ylim(D['conductivity_extent'][2], D['conductivity_extent'][3])\n",
    "    ax2.plot(ax2.get_xlim(), [D['Oooloo_contact_depth'], D['Oooloo_contact_depth']], c = 'red',\n",
    "             label = 'Mapped contact', linestyle = 'dashed')\n",
    "    ax2.legend()\n",
    "    ax2.grid(which = 'both')\n",
    "\n",
    "    #ax3.bar(D['nlayer_bins'], height = D['nlayer_prob'])\n",
    "    #ax3.set_xlabel (\"no of layers\")\n",
    "    ax3.imshow(contact_elev, extent = [dataset.bounds[0], dataset.bounds[2],\n",
    "                                     dataset.bounds[1], dataset.bounds[3]])\n",
    "    ax3.plot(D['easting'],D['northing'], 'ro')\n",
    "    # Ax3 will be our location\n",
    "\n",
    "    for item in D['misfit'].keys():\n",
    "        sample = D['sample_no'][item]\n",
    "        misfits = D['misfit'][item]\n",
    "        ax4.plot(sample, misfits/D['ndata'])\n",
    "\n",
    "    ax4.plot([1, D['nsamples']], [1,1], 'k')\n",
    "    ax4.plot([D['burnin'], D['burnin']],[0.1,1e4], 'k')\n",
    "    ax4.set_xlim([1, D['nsamples']])\n",
    "    ax4.set_ylim(0.1, 1e4)\n",
    "\n",
    "    ax4.set_xscale('log')\n",
    "    ax4.set_yscale('log')\n",
    "\n",
    "    ax4.set_xlabel(\"sample #\")\n",
    "    ax4.set_ylabel(\"Normalised misfit\")\n",
    "\n",
    "    fig.colorbar(im, cax=cbar_ax, orientation='horizontal')\n",
    "    \n",
    "    if not outfile:\n",
    "        indir = r\"C:\\Users\\PCUser\\Desktop\\NSC_data\\AEM_viz_products\\rj_plots\"\n",
    "        fname = os.path.join(indir, str(D['fid']) + \"_\" + str(D['line']) + '.png')\n",
    "    else:\n",
    "        fname =  outfile\n",
    "    \n",
    "    plt.savefig(outfile)\n",
    "    plt.close()\n",
    "\n",
    "\n",
    "\n",
    "#def onclick(event):\n",
    "#    if event.xdata != None and event.ydata != None:\n",
    "#        top_conductor.append([easting, northing, fid, event.ydata])\n",
    "\n",
    "#cid = fig.canvas.mpl_connect('button_press_event', onclick)"
   ]
  },
  {
   "cell_type": "code",
   "execution_count": 4,
   "metadata": {},
   "outputs": [],
   "source": [
    "# Open geodataframe to extract the pmap file from the fiducial\n",
    "\n",
    "infile = r\"C:\\Users\\PCUser\\Desktop\\NSC_data\\data\\AEM\\DR\\garjmcmctdem_2\\combined\\rjmcmc_map.csv\"\n",
    "\n",
    "df = pd.read_csv(infile)\n",
    "\n",
    "geom = [loads(p) for p in df['geom']]\n",
    "\n",
    "df['geometry'] = geom\n",
    "\n",
    "gdf_AEM = gpd.GeoDataFrame(df)\n",
    "\n",
    "# Now lets join on the actual conductivity data\n",
    "\n",
    "infile = r\"C:\\Users\\PCUser\\Desktop\\NSC_data\\data\\AEM\\DR\\garjmcmctdem_2\\combined\\rjmcmc\"\n",
    "\n",
    "# Read in the data and convert to geodataframe\n",
    "\n",
    "dat = aseg_gdf2.read(infile)\n",
    "\n",
    "df = dat.df()\n",
    "\n",
    "cols = [x for x in df.columns if \"[\" in x] + ['fiducial ']\n",
    "\n",
    "gdf_AEM = pd.merge(gdf_AEM, df[cols], on = 'fiducial ')"
   ]
  },
  {
   "cell_type": "code",
   "execution_count": 5,
   "metadata": {},
   "outputs": [],
   "source": [
    "# bring in the LCI data\n",
    "\n",
    "infile = r\"C:\\Users\\PCUser\\Desktop\\NSC_data\\data\\AEM\\DR\\2017_DalyRiver_SkyTEM\\03_LCI\\01_Data\\DalyR_WB_MGA52.nc\"\n",
    "\n",
    "# Read in the data and convert to geodataframe\n",
    "\n",
    "lci_dat = netCDF4.Dataset(infile)"
   ]
  },
  {
   "cell_type": "code",
   "execution_count": 6,
   "metadata": {},
   "outputs": [],
   "source": [
    "# Now we bring in the Oolloo Jinduckin contact to plot\n",
    "\n",
    "inRaster = r\"C:\\Users\\PCUser\\Desktop\\NSC_data\\data\\raster\\Daly_Aquifers\\export\\tJind_BOM.tif\"\n",
    "\n",
    "dataset = rasterio.open(inRaster)\n",
    "\n",
    "contact_elev = dataset.read(1)\n",
    "\n",
    "contact_elev[contact_elev == dataset.get_nodatavals()] = np.nan\n"
   ]
  },
  {
   "cell_type": "code",
   "execution_count": 7,
   "metadata": {},
   "outputs": [],
   "source": [
    "# Define some coordinates to investigate\n",
    "\n",
    "x, y = 806695, 8393855\n",
    "\n",
    "ind, distance = find_nearest_point_ind(gdf_AEM, Point(x,y))\n",
    "\n",
    "near_fid = gdf_AEM.iloc[ind]\n",
    "\n"
   ]
  },
  {
   "cell_type": "code",
   "execution_count": 8,
   "metadata": {},
   "outputs": [
    {
     "name": "stdout",
     "output_type": "stream",
     "text": [
      "    nearest_distance      easting     northing    UFI   BORE_NO  \\\n",
      "0         172.024784  742730.2000  8455761.000   6522  RN006825   \n",
      "1         453.729129  781153.0000  8414685.000   7186  RN007509   \n",
      "2         455.125562  781114.0000  8414689.000   7271  RN007595   \n",
      "3         273.210655  748030.2000  8447861.100   7420  RN007747   \n",
      "4         363.129774  752338.1000  8440939.100   7441  RN007770   \n",
      "..               ...          ...          ...    ...       ...   \n",
      "80         75.029957  766615.0000  8424520.000  34332  RN036815   \n",
      "81        320.022364  762544.0000  8430258.000  34334  RN036817   \n",
      "82        412.132254  789175.0000  8394342.000  34547  RN037043   \n",
      "83        158.793196  838907.3244  8363755.182  34803  RN037338   \n",
      "84        124.888951  816499.0000  8379395.000  35177  RN037771   \n",
      "\n",
      "                                        BORE_NAME  \\\n",
      "0                 DALY BASIN 10 TIPPERARY STATION   \n",
      "1                            CLARAVALE STN. DB 17   \n",
      "2                    Dorisvale Station - WR 18/71   \n",
      "3                                  A=94/71 OOLLOO   \n",
      "4                                  A=95/71 OOLLOO   \n",
      "..                                            ...   \n",
      "80                                    Flemming Rd   \n",
      "81   N.T. GOVERNMENT (FLEMMING ROAD DOUGLAS/DALY)   \n",
      "82                                Florina Station   \n",
      "83                                      Manbulloo   \n",
      "84  TFS Plantations Ltd (Taylor's Park Katherine)   \n",
      "\n",
      "                                           BOREREPORT  YIELD  COMPL_DATE  \\\n",
      "0   http://www.ntlis.nt.gov.au/hpa-services/borere...  26.25   3/11/1969   \n",
      "1   http://www.ntlis.nt.gov.au/hpa-services/borere...  12.00   9/11/2001   \n",
      "2   http://www.ntlis.nt.gov.au/hpa-services/borere...  40.00  18/02/1971   \n",
      "3   http://www.ntlis.nt.gov.au/hpa-services/borere...   1.18   1/09/1971   \n",
      "4   http://www.ntlis.nt.gov.au/hpa-services/borere...   5.00   6/09/1971   \n",
      "..                                                ...    ...         ...   \n",
      "80  http://www.ntlis.nt.gov.au/hpa-services/borere...   5.00  10/11/2009   \n",
      "81  http://www.ntlis.nt.gov.au/hpa-services/borere...   0.00  13/11/2009   \n",
      "82  http://www.ntlis.nt.gov.au/hpa-services/borere...  20.00  17/06/2010   \n",
      "83  http://www.ntlis.nt.gov.au/hpa-services/borere...   5.00   2/08/2011   \n",
      "84  http://www.ntlis.nt.gov.au/hpa-services/borere...   1.00  16/11/2012   \n",
      "\n",
      "    COMPLDEPTH  ...  bTindElev  SWL_Elev  Cret_Thick  Tind_Thick  Oollo_thic  \\\n",
      "0        629.0  ...          0      0.00           0          82         199   \n",
      "1        132.0  ...          0     44.80          30           0           0   \n",
      "2         73.1  ...          0     46.30          26           0           0   \n",
      "3         42.7  ...          0     35.90          21           0           0   \n",
      "4         53.3  ...          0     30.50          15           0           0   \n",
      "..         ...  ...        ...       ...         ...         ...         ...   \n",
      "80        68.7  ...          0     63.25          54           0           0   \n",
      "81        10.4  ...          0      0.00           4           0           0   \n",
      "82       230.0  ...          0     67.40          25           0           0   \n",
      "83        91.8  ...          0     90.50           0           0           0   \n",
      "84       144.0  ...          0     75.00           0           0           0   \n",
      "\n",
      "                                       geometry  nearest_ind  BORE_NO.1  \\\n",
      "0   POINT (742730.2000005958 8455761.000000196)        46877   RN006825   \n",
      "1   POINT (781153.0000014706 8414685.000029653)       132928   RN007509   \n",
      "2   POINT (781114.0000013071 8414689.000000842)       132928   RN007595   \n",
      "3   POINT (748030.2000006685 8447861.100000247)        59353   RN007747   \n",
      "4   POINT (752338.1000007316 8440939.100000298)        87302   RN007770   \n",
      "..                                          ...          ...        ...   \n",
      "80  POINT (766615.0000009811 8424520.000000514)        99381   RN036815   \n",
      "81  POINT (762544.0000009049 8430258.000000443)        93776   RN036817   \n",
      "82  POINT (789175.0000015213 8394342.000001095)       248412   RN037043   \n",
      "83  POINT (838907.3243930977 8363755.181833659)       163741   RN037338   \n",
      "84  POINT (816499.0000024937 8379395.000002395)       192939   RN037771   \n",
      "\n",
      "   nearest_distance.1                                               Note  \n",
      "0          172.024784                               Interp looks bang on  \n",
      "1          453.729129  Florina inconcsistent but large distance may e...  \n",
      "2          455.125562                                                 \"\"  \n",
      "3          273.210655             Could adjust base of Oollo to ~240mBGL  \n",
      "4          363.129774  Could adjust base of Oollo to ~250 but high un...  \n",
      "..                ...                                                ...  \n",
      "80          75.029957                                                NaN  \n",
      "81         320.022364                                                NaN  \n",
      "82         412.132254                                                NaN  \n",
      "83         158.793196                                                NaN  \n",
      "84         124.888951                                                NaN  \n",
      "\n",
      "[85 rows x 39 columns]\n"
     ]
    }
   ],
   "source": [
    "# Open a file with the Oolloo bores\n",
    "\n",
    "infile = r\"C:\\Users\\PCUser\\Desktop\\NSC_data\\data\\vector\\DalyRiver\\strat_bores\\ollo_bores_near_AEM.csv\"\n",
    "\n",
    "df_O = pd.read_csv(infile)\n",
    "\n",
    "print(df_O)"
   ]
  },
  {
   "cell_type": "code",
   "execution_count": null,
   "metadata": {},
   "outputs": [],
   "source": [
    "for ind in gdf_AEM.index.values:\n",
    "    # Only use every 5th point\n",
    "    if ind%5 == 0:\n",
    "        \n",
    "        row = gdf_AEM.iloc[ind]\n",
    "        D = extract_data(row)\n",
    "        Daly_plot(D)\n",
    "    "
   ]
  },
  {
   "cell_type": "code",
   "execution_count": 9,
   "metadata": {},
   "outputs": [
    {
     "name": "stdout",
     "output_type": "stream",
     "text": [
      "172.02444593719852\n",
      "41\n"
     ]
    }
   ],
   "source": [
    "for index, row in df_O.iterrows():\n",
    "    x, y= row['easting'], row['northing']\n",
    "    \n",
    "    ind, distance = find_nearest_point_ind(gdf_AEM, Point(x,y))\n",
    "    \n",
    "    print(distance)\n",
    "\n",
    "    near_fid = gdf_AEM.iloc[ind]\n",
    "    \n",
    "    fname = os.path.join(r\"C:\\Users\\PCUser\\Desktop\\NSC_data\\AEM_viz_products\\rj_plots\", row['BORE_NO'] + '_' + str(near_fid['line ']) + \"_\" + str(near_fid['fiducial ']) + '.png')\n",
    "    \n",
    "    D = extract_data(near_fid)\n",
    "    \n",
    "    print(D['ndata'])\n",
    "    break\n",
    "    #Daly_plot(D, outfile = fname)\n",
    "    "
   ]
  },
  {
   "cell_type": "code",
   "execution_count": 13,
   "metadata": {},
   "outputs": [
    {
     "data": {
      "text/plain": [
       "100000.0"
      ]
     },
     "execution_count": 13,
     "metadata": {},
     "output_type": "execute_result"
    }
   ],
   "source": [
    "D[\"nsamples\"]"
   ]
  },
  {
   "cell_type": "code",
   "execution_count": 19,
   "metadata": {},
   "outputs": [
    {
     "data": {
      "image/png": "[encoded data removed]",
      "text/plain": [
       "<Figure size 432x288 with 1 Axes>"
      ]
     },
     "metadata": {
      "needs_background": "light"
     },
     "output_type": "display_data"
    }
   ],
   "source": [
    "plt.plot(D['sample_no'][1])\n",
    "plt.show()"
   ]
  },
  {
   "cell_type": "code",
   "execution_count": 40,
   "metadata": {},
   "outputs": [
    {
     "data": {
      "text/plain": [
       "41"
      ]
     },
     "execution_count": 40,
     "metadata": {},
     "output_type": "execute_result"
    }
   ],
   "source": [
    "D['ndata']"
   ]
  },
  {
   "cell_type": "code",
   "execution_count": 38,
   "metadata": {},
   "outputs": [
    {
     "data": {
      "text/plain": [
       "array([-2.69897   , -2.66688827, -2.63480654, -2.60272481, -2.57064308,\n",
       "       -2.53856135, -2.50647962, -2.4743979 , -2.44231617, -2.41023444,\n",
       "       -2.37815271, -2.34607098, -2.31398925, -2.28190752, -2.24982579,\n",
       "       -2.21774406, -2.18566233, -2.1535806 , -2.12149887, -2.08941714,\n",
       "       -2.05733541, -2.02525368, -1.99317195, -1.96109022, -1.92900849,\n",
       "       -1.89692676, -1.86484503, -1.8327633 , -1.80068157, -1.76859984,\n",
       "       -1.73651811, -1.70443638, -1.67235465, -1.64027292, -1.60819119,\n",
       "       -1.57610946, -1.54402773, -1.511946  , -1.47986427, -1.44778254,\n",
       "       -1.41570081, -1.38361908, -1.35153735, -1.31945562, -1.28737389,\n",
       "       -1.25529216, -1.22321043, -1.1911287 , -1.15904697, -1.12696524,\n",
       "       -1.09488351, -1.06280178, -1.03072005, -0.99863832, -0.96655659,\n",
       "       -0.93447486, -0.90239313, -0.8703114 , -0.83822967, -0.80614794,\n",
       "       -0.77406621, -0.74198448, -0.70990275, -0.67782102, -0.64573929,\n",
       "       -0.61365756, -0.58157583, -0.5494941 , -0.51741237, -0.48533064,\n",
       "       -0.45324891, -0.42116718, -0.38908545, -0.35700372, -0.32492199,\n",
       "       -0.29284026, -0.26075853, -0.2286768 , -0.19659507, -0.16451334,\n",
       "       -0.13243161, -0.10034988, -0.06826815, -0.03618642, -0.00410469,\n",
       "        0.02797704,  0.06005877,  0.0921405 ,  0.12422223,  0.15630396,\n",
       "        0.18838569,  0.22046742,  0.25254915,  0.28463088,  0.31671261,\n",
       "        0.34879434,  0.38087607,  0.41295779,  0.44503952,  0.47712125])"
      ]
     },
     "execution_count": 38,
     "metadata": {},
     "output_type": "execute_result"
    }
   ],
   "source": [
    "condmin = 0.002\n",
    "condmax = 3.\n",
    "\n",
    "np.linspace(np.log10(condmin), np.log10(condmax), 100)"
   ]
  },
  {
   "cell_type": "code",
   "execution_count": null,
   "metadata": {},
   "outputs": [],
   "source": []
  }
 ],
 "metadata": {
  "kernelspec": {
   "display_name": "garjmcmctdem",
   "language": "python",
   "name": "garjmcmctdem"
  },
  "language_info": {
   "codemirror_mode": {
    "name": "ipython",
    "version": 3
   },
   "file_extension": ".py",
   "mimetype": "text/x-python",
   "name": "python",
   "nbconvert_exporter": "python",
   "pygments_lexer": "ipython3",
   "version": "3.7.3"
  }
 },
 "nbformat": 4,
 "nbformat_minor": 4
}
